{
 "cells": [
  {
   "cell_type": "markdown",
   "metadata": {},
   "source": [
    "Question 1: Load a CSV file containing a dataset into a Pandas DataFrame. Display the first few rows to understand its basic structure."
   ]
  },
  {
   "cell_type": "code",
   "execution_count": 2,
   "metadata": {},
   "outputs": [
    {
     "name": "stdout",
     "output_type": "stream",
     "text": [
      "   Plot_ID   Latitude   Longitude        DBH  Tree_Height  \\\n",
      "0        1  24.981605 -117.040695  29.862040    20.835684   \n",
      "1        2  48.028572  -92.066934  28.462986    24.307079   \n",
      "2        3  39.279758  -68.893791  91.094185     9.013101   \n",
      "3        4  33.946339  -78.744258  28.706889    19.496475   \n",
      "4        5  16.240746  -73.540720  30.835224    18.008888   \n",
      "\n",
      "   Crown_Width_North_South  Crown_Width_East_West      Slope    Elevation  \\\n",
      "0                 6.147963               4.542720  29.171563   212.518419   \n",
      "1                 8.248891               5.260921   7.757386   641.640332   \n",
      "2                 7.841448               8.690927  39.257755  2510.612835   \n",
      "3                 2.385099               4.060039  27.590231  2323.628233   \n",
      "4                 2.343245               8.826847   7.074175  1116.863805   \n",
      "\n",
      "    Soil_TN   Soil_TP   Soil_AP   Soil_AN  Menhinick_Index  Gleason_Index  \\\n",
      "0  0.723065  0.457221  0.189952  0.268850         2.135766       4.897271   \n",
      "1  0.690410  0.265053  0.169791  0.073260         0.700081       1.068692   \n",
      "2  0.104797  0.363831  0.092196  0.297665         1.105825       4.790607   \n",
      "3  0.923347  0.220844  0.305597  0.160819         2.434198       2.474710   \n",
      "4  0.572787  0.316867  0.240929  0.030913         1.821715       1.040362   \n",
      "\n",
      "   Disturbance_Level  Fire_Risk_Index Health_Status  \n",
      "0           0.073175         0.499670       Healthy  \n",
      "1           0.089478         0.746747     Unhealthy  \n",
      "2           0.651974         0.562667     Unhealthy  \n",
      "3           0.486941         0.083303   Sub-Healthy  \n",
      "4           0.790415         0.185580     Unhealthy  \n"
     ]
    }
   ],
   "source": [
    "# Write your code from here\n",
    "import pandas as pd\n",
    "\n",
    "\n",
    "df = pd.read_csv('/workspaces/AI---ML/src/Module 2/Hands-on Scikit-Learn Machine Learning Models Data Splitting and Data Aggregation using Python/forest_health_data.csv')  # Replace 'your_file.csv' with the actual file path\n",
    "\n",
    "\n",
    "print(df.head())\n"
   ]
  },
  {
   "cell_type": "markdown",
   "metadata": {},
   "source": [
    "Question 2: Determine the number of rows and columns in the dataset."
   ]
  },
  {
   "cell_type": "code",
   "execution_count": 3,
   "metadata": {},
   "outputs": [
    {
     "name": "stdout",
     "output_type": "stream",
     "text": [
      "Number of rows: 1000\n",
      "Number of columns: 18\n"
     ]
    }
   ],
   "source": [
    "# Write your code from here\n",
    "\n",
    "rows, columns = df.shape\n",
    "\n",
    "print(f\"Number of rows: {rows}\")\n",
    "print(f\"Number of columns: {columns}\")\n"
   ]
  },
  {
   "cell_type": "markdown",
   "metadata": {},
   "source": [
    "Question 3: Identify the data type of each column in the dataset."
   ]
  },
  {
   "cell_type": "code",
   "execution_count": 4,
   "metadata": {},
   "outputs": [
    {
     "name": "stdout",
     "output_type": "stream",
     "text": [
      "Plot_ID                      int64\n",
      "Latitude                   float64\n",
      "Longitude                  float64\n",
      "DBH                        float64\n",
      "Tree_Height                float64\n",
      "Crown_Width_North_South    float64\n",
      "Crown_Width_East_West      float64\n",
      "Slope                      float64\n",
      "Elevation                  float64\n",
      "Soil_TN                    float64\n",
      "Soil_TP                    float64\n",
      "Soil_AP                    float64\n",
      "Soil_AN                    float64\n",
      "Menhinick_Index            float64\n",
      "Gleason_Index              float64\n",
      "Disturbance_Level          float64\n",
      "Fire_Risk_Index            float64\n",
      "Health_Status               object\n",
      "dtype: object\n"
     ]
    }
   ],
   "source": [
    "# Write your code from here\n",
    "\n",
    "print(df.dtypes)\n"
   ]
  },
  {
   "cell_type": "markdown",
   "metadata": {},
   "source": [
    "Question 4: Generate summary statistics for the numerical columns in the dataset."
   ]
  },
  {
   "cell_type": "code",
   "execution_count": 5,
   "metadata": {},
   "outputs": [
    {
     "name": "stdout",
     "output_type": "stream",
     "text": [
      "           Plot_ID     Latitude    Longitude          DBH  Tree_Height  \\\n",
      "count  1000.000000  1000.000000  1000.000000  1000.000000  1000.000000   \n",
      "mean    500.500000    29.610262   -94.508789    52.728544    15.730501   \n",
      "std     288.819436    11.685494    20.453293    27.614049     8.021702   \n",
      "min       1.000000    10.185281  -129.774722     5.001105     2.018295   \n",
      "25%     250.750000    19.438931  -113.124801    29.828343     8.773222   \n",
      "50%     500.500000    29.872295   -93.688627    52.558322    15.559820   \n",
      "75%     750.250000    39.772784   -76.767446    77.114835    22.651143   \n",
      "max    1000.000000    49.988707   -60.041039    99.792981    29.987616   \n",
      "\n",
      "       Crown_Width_North_South  Crown_Width_East_West        Slope  \\\n",
      "count              1000.000000            1000.000000  1000.000000   \n",
      "mean                  5.446948               5.486180    22.198898   \n",
      "std                   2.581289               2.602753    13.038014   \n",
      "min                   1.000276               1.055654     0.064275   \n",
      "25%                   3.204766               3.244420    10.809975   \n",
      "50%                   5.451383               5.413625    21.808936   \n",
      "75%                   7.659941               7.658666    34.040896   \n",
      "max                   9.979745               9.994153    44.975731   \n",
      "\n",
      "         Elevation      Soil_TN      Soil_TP      Soil_AP      Soil_AN  \\\n",
      "count  1000.000000  1000.000000  1000.000000  1000.000000  1000.000000   \n",
      "mean   1498.874791     0.491632     0.250914     0.255317     0.255100   \n",
      "std     826.251755     0.279412     0.139666     0.141794     0.146605   \n",
      "min     100.698914     0.010241     0.005026     0.005467     0.005078   \n",
      "25%     784.368948     0.256890     0.135751     0.130052     0.130452   \n",
      "50%    1503.573023     0.483914     0.250117     0.255651     0.249754   \n",
      "75%    2171.952127     0.718746     0.369428     0.379568     0.387961   \n",
      "max    2996.823629     0.996053     0.499755     0.499838     0.499671   \n",
      "\n",
      "       Menhinick_Index  Gleason_Index  Disturbance_Level  Fire_Risk_Index  \n",
      "count      1000.000000    1000.000000        1000.000000      1000.000000  \n",
      "mean          1.743536       2.974499           0.504893         0.490991  \n",
      "std           0.719550       1.175643           0.289751         0.290822  \n",
      "min           0.503009       1.005335           0.001320         0.000310  \n",
      "25%           1.119647       1.939332           0.254679         0.236863  \n",
      "50%           1.724600       2.929722           0.500965         0.492343  \n",
      "75%           2.383008       4.008349           0.768492         0.746786  \n",
      "max           2.996746       4.995379           0.999805         0.999925  \n"
     ]
    }
   ],
   "source": [
    "# Write your code from here\n",
    "# Summary statistics for numerical columns\n",
    "print(df.describe())\n"
   ]
  },
  {
   "cell_type": "markdown",
   "metadata": {},
   "source": [
    "Question 5: Identify columns with missing values and count the number of missing values in each."
   ]
  },
  {
   "cell_type": "code",
   "execution_count": 6,
   "metadata": {},
   "outputs": [
    {
     "name": "stdout",
     "output_type": "stream",
     "text": [
      "Series([], dtype: int64)\n"
     ]
    }
   ],
   "source": [
    "# Write your code from here\n",
    "\n",
    "missing_values = df.isnull().sum()\n",
    "\n",
    "\n",
    "print(missing_values[missing_values > 0])\n"
   ]
  },
  {
   "cell_type": "markdown",
   "metadata": {},
   "source": [
    "Question 6: Replace missing values in a column with the median value of that column."
   ]
  },
  {
   "cell_type": "code",
   "execution_count": 14,
   "metadata": {},
   "outputs": [],
   "source": [
    "\n",
    "df['Latitude'] = df['Latitude'].fillna(df['Latitude'].median())\n"
   ]
  },
  {
   "cell_type": "markdown",
   "metadata": {},
   "source": [
    "Question 7: Remove duplicate rows from the dataset."
   ]
  },
  {
   "cell_type": "code",
   "execution_count": 15,
   "metadata": {},
   "outputs": [],
   "source": [
    "# Write your code from here\n",
    "\n",
    "df.drop_duplicates(inplace=True)\n"
   ]
  },
  {
   "cell_type": "markdown",
   "metadata": {},
   "source": [
    "Question 8: Create a histogram to visualize the distribution of a numerical column (e.g., 'price')."
   ]
  },
  {
   "cell_type": "code",
   "execution_count": 16,
   "metadata": {},
   "outputs": [
    {
     "data": {
      "image/png": "[encoded data removed]",
      "text/plain": [
       "<Figure size 640x480 with 1 Axes>"
      ]
     },
     "metadata": {},
     "output_type": "display_data"
    }
   ],
   "source": [
    "# Write your code from here\n",
    "import matplotlib.pyplot as plt\n",
    "\n",
    "# Sample data for 'price' column\n",
    "price = [100, 150, 200, 250, 300, 350, 400, 450, 500, 550, 600]\n",
    "\n",
    "# Create a histogram\n",
    "plt.hist(price, bins=10, edgecolor='black')\n",
    "\n",
    "# Add titles and labels\n",
    "plt.title('Price Distribution')\n",
    "plt.xlabel('Price')\n",
    "plt.ylabel('Frequency')\n",
    "\n",
    "# Show the plot\n",
    "plt.show()\n"
   ]
  },
  {
   "cell_type": "markdown",
   "metadata": {},
   "source": [
    "Question 9: Create a scatter plot to visualize the relationship between two numerical variables"
   ]
  },
  {
   "cell_type": "code",
   "execution_count": 17,
   "metadata": {},
   "outputs": [
    {
     "data": {
      "image/png": "[encoded data removed]",
      "text/plain": [
       "<Figure size 640x480 with 1 Axes>"
      ]
     },
     "metadata": {},
     "output_type": "display_data"
    }
   ],
   "source": [
    "# Write your code from here\n",
    "import matplotlib.pyplot as plt\n",
    "\n",
    "# Sample data for two numerical variables, 'x' and 'y'\n",
    "x = [1, 2, 3, 4, 5, 6, 7, 8, 9, 10]\n",
    "y = [2, 3, 5, 7, 11, 13, 17, 19, 23, 29]\n",
    "\n",
    "# Create a scatter plot\n",
    "plt.scatter(x, y)\n",
    "\n",
    "# Add titles and labels\n",
    "plt.title('Scatter Plot: Relationship between X and Y')\n",
    "plt.xlabel('X')\n",
    "plt.ylabel('Y')\n",
    "\n",
    "# Show the plot\n",
    "plt.show()\n",
    "\n"
   ]
  },
  {
   "cell_type": "markdown",
   "metadata": {},
   "source": [
    "Question 10: Visualize the correlation matrix of the dataset using a heatmap."
   ]
  },
  {
   "cell_type": "code",
   "execution_count": 18,
   "metadata": {},
   "outputs": [
    {
     "data": {
      "image/png": "[encoded data removed]",
      "text/plain": [
       "<Figure size 640x480 with 2 Axes>"
      ]
     },
     "metadata": {},
     "output_type": "display_data"
    }
   ],
   "source": [
    "# Write your code from here\n",
    "import seaborn as sns\n",
    "import matplotlib.pyplot as plt\n",
    "import pandas as pd\n",
    "\n",
    "# Sample dataset\n",
    "data = {\n",
    "    'A': [1, 2, 3, 4, 5],\n",
    "    'B': [5, 4, 3, 2, 1],\n",
    "    'C': [2, 3, 4, 5, 6],\n",
    "    'D': [6, 5, 4, 3, 2]\n",
    "}\n",
    "\n",
    "# Create a DataFrame\n",
    "df = pd.DataFrame(data)\n",
    "\n",
    "# Calculate the correlation matrix\n",
    "corr_matrix = df.corr()\n",
    "\n",
    "# Create a heatmap to visualize the correlation matrix\n",
    "sns.heatmap(corr_matrix, annot=True, cmap='coolwarm', fmt='.2f', linewidths=0.5)\n",
    "\n",
    "# Add a title\n",
    "plt.title('Correlation Matrix Heatmap')\n",
    "\n",
    "# Show the plot\n",
    "plt.show()\n"
   ]
  }
 ],
 "metadata": {
  "kernelspec": {
   "display_name": "Python 3",
   "language": "python",
   "name": "python3"
  },
  "language_info": {
   "codemirror_mode": {
    "name": "ipython",
    "version": 3
   },
   "file_extension": ".py",
   "mimetype": "text/x-python",
   "name": "python",
   "nbconvert_exporter": "python",
   "pygments_lexer": "ipython3",
   "version": "3.10.12"
  }
 },
 "nbformat": 4,
 "nbformat_minor": 2
}
