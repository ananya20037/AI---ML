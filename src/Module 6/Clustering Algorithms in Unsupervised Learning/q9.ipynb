{
 "cells": [
  {
   "cell_type": "code",
   "execution_count": 1,
   "metadata": {},
   "outputs": [
    {
     "name": "stdout",
     "output_type": "stream",
     "text": [
      "Document 0: Cluster 1\n",
      "Document 1: Cluster 2\n",
      "Document 2: Cluster 1\n",
      "Document 3: Cluster 0\n",
      "Document 4: Cluster 0\n",
      "Document 5: Cluster 0\n",
      "Document 6: Cluster 1\n",
      "Document 7: Cluster 1\n",
      "Document 8: Cluster 1\n"
     ]
    }
   ],
   "source": [
    "# Question 8: Clustering Text Data\n",
    "# Description: Apply K-Means clustering to a set of text documents (e.g., news articles) after using TF-IDF for feature extraction.\n",
    "from sklearn.feature_extraction.text import TfidfVectorizer\n",
    "from sklearn.cluster import KMeans\n",
    "import matplotlib.pyplot as plt\n",
    "\n",
    "documents = [\n",
    "    \"The economy is growing and markets are strong.\",\n",
    "    \"The stock market saw a significant increase today.\",\n",
    "    \"Technology stocks are performing well this quarter.\",\n",
    "    \"Health benefits of exercise and proper diet.\",\n",
    "    \"Regular workouts improve mental health.\",\n",
    "    \"A balanced diet is essential for fitness.\",\n",
    "    \"New study shows climate change impacts agriculture.\",\n",
    "    \"Climate change leads to extreme weather events.\",\n",
    "    \"Farming is being affected by global warming trends.\"\n",
    "]\n",
    "\n",
    "vectorizer = TfidfVectorizer(stop_words='english')\n",
    "X = vectorizer.fit_transform(documents)\n",
    "\n",
    "model = KMeans(n_clusters=3, random_state=42)\n",
    "labels = model.fit_predict(X)\n",
    "\n",
    "for i, label in enumerate(labels):\n",
    "    print(f'Document {i}: Cluster {label}')\n"
   ]
  }
 ],
 "metadata": {
  "kernelspec": {
   "display_name": "Python 3",
   "language": "python",
   "name": "python3"
  },
  "language_info": {
   "codemirror_mode": {
    "name": "ipython",
    "version": 3
   },
   "file_extension": ".py",
   "mimetype": "text/x-python",
   "name": "python",
   "nbconvert_exporter": "python",
   "pygments_lexer": "ipython3",
   "version": "3.10.12"
  }
 },
 "nbformat": 4,
 "nbformat_minor": 2
}
