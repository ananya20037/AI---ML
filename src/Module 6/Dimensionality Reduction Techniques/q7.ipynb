{
 "cells": [
  {
   "cell_type": "code",
   "execution_count": 1,
   "metadata": {},
   "outputs": [
    {
     "ename": "",
     "evalue": "",
     "output_type": "error",
     "traceback": [
      "\u001b[1;31mThe Kernel crashed while executing code in the current cell or a previous cell. \n",
      "\u001b[1;31mPlease review the code in the cell(s) to identify a possible cause of the failure. \n",
      "\u001b[1;31mClick <a href='https://aka.ms/vscodeJupyterKernelCrash'>here</a> for more info. \n",
      "\u001b[1;31mView Jupyter <a href='command:jupyter.viewOutput'>log</a> for further details."
     ]
    }
   ],
   "source": [
    "# Question 7: Combining PCA and t-SNE for Better Results\n",
    "# Description: Combine PCA and t-SNE for large datasets – reduce dimensions using PCA, visualize with t-SNE.\n",
    "import numpy as np\n",
    "import matplotlib.pyplot as plt\n",
    "from sklearn.decomposition import PCA\n",
    "from sklearn.manifold import TSNE\n",
    "from sklearn.preprocessing import StandardScaler\n",
    "from sklearn.datasets import fetch_openml\n",
    "\n",
    "# Load CIFAR-10 dataset\n",
    "from sklearn import datasets\n",
    "\n",
    "# Load CIFAR-10 data from sklearn datasets\n",
    "cifar10 = datasets.fetch_openml('CIFAR_10_small')\n",
    "\n",
    "# Preprocess the data\n",
    "X = cifar10.data.astype(np.float32) / 255.0  # Normalize pixel values to [0, 1]\n",
    "y = cifar10.target.astype(int)\n",
    "\n",
    "# Standardize the data\n",
    "scaler = StandardScaler()\n",
    "X_scaled = scaler.fit_transform(X)\n",
    "\n",
    "# Step 1: Apply PCA for initial dimensionality reduction\n",
    "n_components_pca = 50  # Reduce to 50 dimensions\n",
    "pca = PCA(n_components=n_components_pca)\n",
    "X_pca = pca.fit_transform(X_scaled)\n",
    "\n",
    "# Step 2: Apply t-SNE for further dimensionality reduction (usually 2 or 3 components)\n",
    "tsne = TSNE(n_components=2, random_state=42)\n",
    "X_tsne = tsne.fit_transform(X_pca)\n",
    "\n",
    "# Step 3: Visualize the results using a scatter plot\n",
    "plt.figure(figsize=(10, 8))\n",
    "plt.scatter(X_tsne[:, 0], X_tsne[:, 1], c=y, cmap='viridis', alpha=0.5, s=10)\n",
    "plt.colorbar()\n",
    "plt.title('t-SNE Visualization of CIFAR-10 (after PCA)')\n",
    "plt.xlabel('t-SNE 1')\n",
    "plt.ylabel('t-SNE 2')\n",
    "plt.show()\n"
   ]
  }
 ],
 "metadata": {
  "kernelspec": {
   "display_name": "Python 3",
   "language": "python",
   "name": "python3"
  },
  "language_info": {
   "codemirror_mode": {
    "name": "ipython",
    "version": 3
   },
   "file_extension": ".py",
   "mimetype": "text/x-python",
   "name": "python",
   "nbconvert_exporter": "python",
   "pygments_lexer": "ipython3",
   "version": "3.10.12"
  }
 },
 "nbformat": 4,
 "nbformat_minor": 2
}
