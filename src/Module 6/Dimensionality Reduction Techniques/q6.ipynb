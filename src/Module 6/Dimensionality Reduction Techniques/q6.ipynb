{
 "cells": [
  {
   "cell_type": "code",
   "execution_count": 1,
   "metadata": {},
   "outputs": [
    {
     "ename": "",
     "evalue": "",
     "output_type": "error",
     "traceback": [
      "\u001b[1;31mThe Kernel crashed while executing code in the current cell or a previous cell. \n",
      "\u001b[1;31mPlease review the code in the cell(s) to identify a possible cause of the failure. \n",
      "\u001b[1;31mClick <a href='https://aka.ms/vscodeJupyterKernelCrash'>here</a> for more info. \n",
      "\u001b[1;31mView Jupyter <a href='command:jupyter.viewOutput'>log</a> for further details."
     ]
    }
   ],
   "source": [
    "# Question 6: Custom Autoencoder Model for Complex Dataset\n",
    "# Description: Build a custom autoencoder for a more complex dataset, like CIFAR-10.\n",
    "import numpy as np\n",
    "from sklearn.decomposition import PCA\n",
    "from sklearn.datasets import fetch_openml\n",
    "from sklearn.model_selection import train_test_split\n",
    "from sklearn.preprocessing import StandardScaler\n",
    "from sklearn.metrics import mean_squared_error\n",
    "import matplotlib.pyplot as plt\n",
    "\n",
    "# Load CIFAR-10 dataset\n",
    "from sklearn import datasets\n",
    "import numpy as np\n",
    "\n",
    "# Load CIFAR-10 data from sklearn datasets\n",
    "cifar10 = datasets.fetch_openml('CIFAR_10_small')\n",
    "\n",
    "# Preprocess the data\n",
    "X = cifar10.data.astype(np.float32) / 255.0  # Normalize pixel values to [0, 1]\n",
    "\n",
    "# Split into train and test\n",
    "X_train, X_test = train_test_split(X, test_size=0.2, random_state=42)\n",
    "\n",
    "# Scale the data for PCA (autoencoders often work better with normalized data)\n",
    "scaler = StandardScaler()\n",
    "X_train_scaled = scaler.fit_transform(X_train)\n",
    "X_test_scaled = scaler.transform(X_test)\n",
    "\n",
    "# Apply PCA for dimensionality reduction\n",
    "n_components = 50  # This is a hyperparameter that you can adjust\n",
    "pca = PCA(n_components=n_components)\n",
    "X_train_pca = pca.fit_transform(X_train_scaled)\n",
    "X_test_pca = pca.transform(X_test_scaled)\n",
    "\n",
    "# Reconstruct data from PCA\n",
    "X_train_reconstructed = pca.inverse_transform(X_train_pca)\n",
    "X_test_reconstructed = pca.inverse_transform(X_test_pca)\n",
    "\n",
    "# Calculate mean squared error (MSE) as a reconstruction error\n",
    "train_mse = mean_squared_error(X_train_scaled, X_train_reconstructed)\n",
    "test_mse = mean_squared_error(X_test_scaled, X_test_reconstructed)\n",
    "\n",
    "print(f\"Train Reconstruction MSE: {train_mse}\")\n",
    "print(f\"Test Reconstruction MSE: {test_mse}\")\n",
    "\n",
    "# Visualize the original and reconstructed data (for a few samples)\n",
    "n_samples = 5\n",
    "fig, axes = plt.subplots(2, n_samples, figsize=(10, 4))\n",
    "\n",
    "for i in range(n_samples):\n",
    "    # Original images\n",
    "    axes[0, i].imshow(X_test.iloc[i].reshape(32, 32, 3))  # Assuming images are 32x32 with 3 channels (RGB)\n",
    "    axes[0, i].axis('off')\n",
    "    \n",
    "    # Reconstructed images\n",
    "    axes[1, i].imshow(X_test_reconstructed[i].reshape(32, 32, 3))\n",
    "    axes[1, i].axis('off')\n",
    "\n",
    "plt.show()\n",
    "\n"
   ]
  }
 ],
 "metadata": {
  "kernelspec": {
   "display_name": "Python 3",
   "language": "python",
   "name": "python3"
  },
  "language_info": {
   "codemirror_mode": {
    "name": "ipython",
    "version": 3
   },
   "file_extension": ".py",
   "mimetype": "text/x-python",
   "name": "python",
   "nbconvert_exporter": "python",
   "pygments_lexer": "ipython3",
   "version": "3.10.12"
  }
 },
 "nbformat": 4,
 "nbformat_minor": 2
}
