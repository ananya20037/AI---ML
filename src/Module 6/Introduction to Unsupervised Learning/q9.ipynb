{
 "cells": [
  {
   "cell_type": "code",
   "execution_count": 1,
   "metadata": {},
   "outputs": [
    {
     "name": "stdout",
     "output_type": "stream",
     "text": [
      "       antecedents      consequents  antecedent support  consequent support  \\\n",
      "0          (bread)         (butter)                 1.0                 1.0   \n",
      "1         (butter)          (bread)                 1.0                 1.0   \n",
      "2            (jam)          (bread)                 0.6                 1.0   \n",
      "3           (milk)          (bread)                 0.6                 1.0   \n",
      "4            (jam)         (butter)                 0.6                 1.0   \n",
      "5           (milk)         (butter)                 0.6                 1.0   \n",
      "6     (jam, bread)         (butter)                 0.6                 1.0   \n",
      "7    (jam, butter)          (bread)                 0.6                 1.0   \n",
      "8            (jam)  (bread, butter)                 0.6                 1.0   \n",
      "9    (bread, milk)         (butter)                 0.6                 1.0   \n",
      "10  (milk, butter)          (bread)                 0.6                 1.0   \n",
      "11          (milk)  (bread, butter)                 0.6                 1.0   \n",
      "\n",
      "    support  confidence  lift  representativity  leverage  conviction  \\\n",
      "0       1.0         1.0   1.0               1.0       0.0         inf   \n",
      "1       1.0         1.0   1.0               1.0       0.0         inf   \n",
      "2       0.6         1.0   1.0               1.0       0.0         inf   \n",
      "3       0.6         1.0   1.0               1.0       0.0         inf   \n",
      "4       0.6         1.0   1.0               1.0       0.0         inf   \n",
      "5       0.6         1.0   1.0               1.0       0.0         inf   \n",
      "6       0.6         1.0   1.0               1.0       0.0         inf   \n",
      "7       0.6         1.0   1.0               1.0       0.0         inf   \n",
      "8       0.6         1.0   1.0               1.0       0.0         inf   \n",
      "9       0.6         1.0   1.0               1.0       0.0         inf   \n",
      "10      0.6         1.0   1.0               1.0       0.0         inf   \n",
      "11      0.6         1.0   1.0               1.0       0.0         inf   \n",
      "\n",
      "    zhangs_metric  jaccard  certainty  kulczynski  \n",
      "0             0.0      1.0        0.0         1.0  \n",
      "1             0.0      1.0        0.0         1.0  \n",
      "2             0.0      0.6        0.0         0.8  \n",
      "3             0.0      0.6        0.0         0.8  \n",
      "4             0.0      0.6        0.0         0.8  \n",
      "5             0.0      0.6        0.0         0.8  \n",
      "6             0.0      0.6        0.0         0.8  \n",
      "7             0.0      0.6        0.0         0.8  \n",
      "8             0.0      0.6        0.0         0.8  \n",
      "9             0.0      0.6        0.0         0.8  \n",
      "10            0.0      0.6        0.0         0.8  \n",
      "11            0.0      0.6        0.0         0.8  \n"
     ]
    },
    {
     "name": "stderr",
     "output_type": "stream",
     "text": [
      "/home/vscode/.local/lib/python3.10/site-packages/mlxtend/frequent_patterns/association_rules.py:186: RuntimeWarning: invalid value encountered in divide\n",
      "  cert_metric = np.where(certainty_denom == 0, 0, certainty_num / certainty_denom)\n"
     ]
    }
   ],
   "source": [
    "# Question 10: Market Basket Analysis using Apriori Algorithm\n",
    "# Description: Perform market basket analysis on a dataset of transactions using the Apriori algorithm to find frequent itemsets and association rules.\n",
    "import pandas as pd\n",
    "from mlxtend.frequent_patterns import apriori, association_rules\n",
    "from mlxtend.preprocessing import TransactionEncoder\n",
    "\n",
    "dataset = [\n",
    "    ['milk', 'bread', 'butter'],\n",
    "    ['bread', 'butter', 'jam'],\n",
    "    ['milk', 'bread', 'butter', 'jam'],\n",
    "    ['bread', 'butter'],\n",
    "    ['milk', 'bread', 'butter', 'jam']\n",
    "]\n",
    "\n",
    "te = TransactionEncoder()\n",
    "te_ary = te.fit(dataset).transform(dataset)\n",
    "df = pd.DataFrame(te_ary, columns=te.columns_)\n",
    "\n",
    "frequent_itemsets = apriori(df, min_support=0.6, use_colnames=True)\n",
    "rules = association_rules(frequent_itemsets, metric=\"confidence\", min_threshold=0.7)\n",
    "\n",
    "print(rules)\n"
   ]
  }
 ],
 "metadata": {
  "kernelspec": {
   "display_name": "Python 3",
   "language": "python",
   "name": "python3"
  },
  "language_info": {
   "codemirror_mode": {
    "name": "ipython",
    "version": 3
   },
   "file_extension": ".py",
   "mimetype": "text/x-python",
   "name": "python",
   "nbconvert_exporter": "python",
   "pygments_lexer": "ipython3",
   "version": "3.10.12"
  }
 },
 "nbformat": 4,
 "nbformat_minor": 2
}
