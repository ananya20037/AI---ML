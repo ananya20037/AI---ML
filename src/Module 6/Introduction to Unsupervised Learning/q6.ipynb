{
 "cells": [
  {
   "cell_type": "code",
   "execution_count": 1,
   "metadata": {},
   "outputs": [
    {
     "name": "stdout",
     "output_type": "stream",
     "text": [
      "    feature1  feature2  anomaly\n",
      "0         10        20        1\n",
      "1         12        21        1\n",
      "2         11        19        1\n",
      "3         13        22        1\n",
      "4         12        21        1\n",
      "5         14        23        1\n",
      "6        100       200       -1\n",
      "7         12        21        1\n",
      "8         13        22        1\n",
      "9         15        24       -1\n",
      "10        11        20        1\n",
      "11        10        19        1\n"
     ]
    }
   ],
   "source": [
    "# Question 5: Anomaly Detection with Isolation Forest\n",
    "# Description: Detect anomalies in a dataset using the Isolation Forest algorithm.\n",
    "import pandas as pd\n",
    "from sklearn.ensemble import IsolationForest\n",
    "\n",
    "data = pd.DataFrame({\n",
    "    'feature1': [10, 12, 11, 13, 12, 14, 100, 12, 13, 15, 11, 10],\n",
    "    'feature2': [20, 21, 19, 22, 21, 23, 200, 21, 22, 24, 20, 19]\n",
    "})\n",
    "\n",
    "model = IsolationForest(contamination=0.1, random_state=0)\n",
    "data['anomaly'] = model.fit_predict(data)\n",
    "\n",
    "print(data)\n"
   ]
  }
 ],
 "metadata": {
  "kernelspec": {
   "display_name": "Python 3",
   "language": "python",
   "name": "python3"
  },
  "language_info": {
   "codemirror_mode": {
    "name": "ipython",
    "version": 3
   },
   "file_extension": ".py",
   "mimetype": "text/x-python",
   "name": "python",
   "nbconvert_exporter": "python",
   "pygments_lexer": "ipython3",
   "version": "3.10.12"
  }
 },
 "nbformat": 4,
 "nbformat_minor": 2
}
