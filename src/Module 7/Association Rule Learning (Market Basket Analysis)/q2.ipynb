{
 "cells": [
  {
   "cell_type": "code",
   "execution_count": 2,
   "metadata": {},
   "outputs": [
    {
     "name": "stdout",
     "output_type": "stream",
     "text": [
      "    support               itemsets\n",
      "0       1.0                (bread)\n",
      "1       1.0               (butter)\n",
      "2       0.6                 (milk)\n",
      "3       0.6                  (jam)\n",
      "4       1.0        (bread, butter)\n",
      "5       0.6         (milk, butter)\n",
      "6       0.6          (milk, bread)\n",
      "7       0.6  (milk, bread, butter)\n",
      "8       0.6          (jam, butter)\n",
      "9       0.6           (bread, jam)\n",
      "10      0.6   (bread, jam, butter)\n"
     ]
    }
   ],
   "source": [
    "# Question 2: FP-Growth Algorithm Implementation\n",
    "# Description:\n",
    "# Use the FP-Growth algorithm to discover frequent patterns from the given data using a popular library.\n",
    "import pandas as pd\n",
    "from mlxtend.frequent_patterns import fpgrowth\n",
    "from mlxtend.preprocessing import TransactionEncoder\n",
    "\n",
    "dataset = [\n",
    "    ['milk', 'bread', 'butter'],\n",
    "    ['bread', 'butter', 'jam'],\n",
    "    ['milk', 'bread', 'butter', 'jam'],\n",
    "    ['bread', 'butter'],\n",
    "    ['milk', 'bread', 'butter', 'jam']\n",
    "]\n",
    "\n",
    "te = TransactionEncoder()\n",
    "te_ary = te.fit(dataset).transform(dataset)\n",
    "df = pd.DataFrame(te_ary, columns=te.columns_)\n",
    "\n",
    "frequent_itemsets = fpgrowth(df, min_support=0.6, use_colnames=True)\n",
    "\n",
    "print(frequent_itemsets)\n"
   ]
  }
 ],
 "metadata": {
  "kernelspec": {
   "display_name": "Python 3",
   "language": "python",
   "name": "python3"
  },
  "language_info": {
   "codemirror_mode": {
    "name": "ipython",
    "version": 3
   },
   "file_extension": ".py",
   "mimetype": "text/x-python",
   "name": "python",
   "nbconvert_exporter": "python",
   "pygments_lexer": "ipython3",
   "version": "3.10.12"
  }
 },
 "nbformat": 4,
 "nbformat_minor": 2
}
