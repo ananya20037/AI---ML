{
 "cells": [
  {
   "cell_type": "code",
   "execution_count": 2,
   "metadata": {},
   "outputs": [
    {
     "name": "stdout",
     "output_type": "stream",
     "text": [
      "    support               itemsets\n",
      "0       1.0                (bread)\n",
      "1       1.0               (butter)\n",
      "2       0.6                  (jam)\n",
      "3       0.6                 (milk)\n",
      "4       1.0        (butter, bread)\n",
      "5       0.6           (bread, jam)\n",
      "6       0.6          (bread, milk)\n",
      "7       0.6          (butter, jam)\n",
      "8       0.6         (butter, milk)\n",
      "9       0.6   (butter, bread, jam)\n",
      "10      0.6  (butter, bread, milk)\n"
     ]
    }
   ],
   "source": [
    "# Question 1:  Implementing the Apriori Algorithm in Python\n",
    "# Description:\n",
    "# Use the Apriori algorithm to find frequent itemsets from a simple transactional dataset.\n",
    "import pandas as pd\n",
    "from mlxtend.frequent_patterns import apriori\n",
    "from mlxtend.preprocessing import TransactionEncoder\n",
    "\n",
    "dataset = [\n",
    "    ['milk', 'bread', 'butter'],\n",
    "    ['bread', 'butter', 'jam'],\n",
    "    ['milk', 'bread', 'butter', 'jam'],\n",
    "    ['bread', 'butter'],\n",
    "    ['milk', 'bread', 'butter', 'jam']\n",
    "]\n",
    "\n",
    "te = TransactionEncoder()\n",
    "te_ary = te.fit(dataset).transform(dataset)\n",
    "df = pd.DataFrame(te_ary, columns=te.columns_)\n",
    "\n",
    "frequent_itemsets = apriori(df, min_support=0.6, use_colnames=True)\n",
    "\n",
    "print(frequent_itemsets)\n"
   ]
  }
 ],
 "metadata": {
  "kernelspec": {
   "display_name": "Python 3",
   "language": "python",
   "name": "python3"
  },
  "language_info": {
   "codemirror_mode": {
    "name": "ipython",
    "version": 3
   },
   "file_extension": ".py",
   "mimetype": "text/x-python",
   "name": "python",
   "nbconvert_exporter": "python",
   "pygments_lexer": "ipython3",
   "version": "3.10.12"
  }
 },
 "nbformat": 4,
 "nbformat_minor": 2
}
