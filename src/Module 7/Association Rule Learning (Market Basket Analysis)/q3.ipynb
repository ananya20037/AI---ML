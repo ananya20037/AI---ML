{
 "cells": [
  {
   "cell_type": "code",
   "execution_count": 1,
   "metadata": {},
   "outputs": [
    {
     "name": "stdout",
     "output_type": "stream",
     "text": [
      "Empty DataFrame\n",
      "Columns: [antecedents, consequents, antecedent support, consequent support, support, confidence, lift, representativity, leverage, conviction, zhangs_metric, jaccard, certainty, kulczynski]\n",
      "Index: []\n"
     ]
    }
   ],
   "source": [
    "# Question 3: Fraud Detection with Association Rules\n",
    "# Description:\n",
    "# Explore how association rule learning can be employed for detecting fraudulent transactions.\n",
    "import pandas as pd\n",
    "from mlxtend.frequent_patterns import apriori, association_rules\n",
    "from mlxtend.preprocessing import TransactionEncoder\n",
    "\n",
    "# Sample transaction dataset with potential fraudulent patterns\n",
    "dataset = [\n",
    "    ['credit_card', 'phone', 'electronics', 'expensive'],\n",
    "    ['credit_card', 'clothing', 'medium_expensive'],\n",
    "    ['debit_card', 'groceries', 'cheap'],\n",
    "    ['credit_card', 'phone', 'electronics', 'expensive'],\n",
    "    ['debit_card', 'clothing', 'cheap'],\n",
    "    ['credit_card', 'phone', 'electronics', 'expensive', 'suspicious'],\n",
    "    ['credit_card', 'groceries', 'medium_expensive'],\n",
    "    ['debit_card', 'electronics', 'cheap'],\n",
    "    ['credit_card', 'electronics', 'expensive', 'suspicious'],\n",
    "]\n",
    "\n",
    "te = TransactionEncoder()\n",
    "te_ary = te.fit(dataset).transform(dataset)\n",
    "df = pd.DataFrame(te_ary, columns=te.columns_)\n",
    "\n",
    "# Apply Apriori to find frequent itemsets\n",
    "frequent_itemsets = apriori(df, min_support=0.3, use_colnames=True)\n",
    "\n",
    "# Generate association rules with confidence metric to find suspicious transactions\n",
    "rules = association_rules(frequent_itemsets, metric=\"confidence\", min_threshold=0.7)\n",
    "\n",
    "# Print out rules that involve \"suspicious\" transactions\n",
    "fraudulent_rules = rules[rules['consequents'].apply(lambda x: 'suspicious' in x)]\n",
    "print(fraudulent_rules)\n"
   ]
  }
 ],
 "metadata": {
  "kernelspec": {
   "display_name": "Python 3",
   "language": "python",
   "name": "python3"
  },
  "language_info": {
   "codemirror_mode": {
    "name": "ipython",
    "version": 3
   },
   "file_extension": ".py",
   "mimetype": "text/x-python",
   "name": "python",
   "nbconvert_exporter": "python",
   "pygments_lexer": "ipython3",
   "version": "3.10.12"
  }
 },
 "nbformat": 4,
 "nbformat_minor": 2
}
