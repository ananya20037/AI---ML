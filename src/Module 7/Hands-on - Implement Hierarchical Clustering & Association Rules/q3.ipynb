{
 "cells": [
  {
   "cell_type": "code",
   "execution_count": 2,
   "metadata": {},
   "outputs": [
    {
     "name": "stdout",
     "output_type": "stream",
     "text": [
      "   support              itemsets\n",
      "0      0.6                (Beer)\n",
      "1      0.8               (Bread)\n",
      "2      0.6              (Diaper)\n",
      "3      1.0                (Milk)\n",
      "4      0.6        (Diaper, Beer)\n",
      "5      0.6          (Beer, Milk)\n",
      "6      0.8         (Milk, Bread)\n",
      "7      0.6        (Diaper, Milk)\n",
      "8      0.6  (Diaper, Beer, Milk)\n"
     ]
    }
   ],
   "source": [
    "# Question 3: Implement Apriori algorithm on a simple transaction dataset.\n",
    "import pandas as pd\n",
    "from mlxtend.frequent_patterns import apriori\n",
    "from mlxtend.preprocessing import TransactionEncoder\n",
    "\n",
    "dataset = [\n",
    "    ['Milk', 'Bread'],\n",
    "    ['Milk', 'Diaper', 'Beer', 'Bread'],\n",
    "    ['Milk', 'Diaper', 'Beer', 'Coke'],\n",
    "    ['Bread', 'Egg', 'Milk'],\n",
    "    ['Bread', 'Egg', 'Diaper', 'Milk', 'Beer']\n",
    "]\n",
    "\n",
    "te = TransactionEncoder()\n",
    "te_ary = te.fit(dataset).transform(dataset)\n",
    "df = pd.DataFrame(te_ary, columns=te.columns_)\n",
    "\n",
    "frequent_itemsets = apriori(df, min_support=0.5, use_colnames=True)\n",
    "\n",
    "print(frequent_itemsets)\n"
   ]
  }
 ],
 "metadata": {
  "kernelspec": {
   "display_name": "Python 3",
   "language": "python",
   "name": "python3"
  },
  "language_info": {
   "codemirror_mode": {
    "name": "ipython",
    "version": 3
   },
   "file_extension": ".py",
   "mimetype": "text/x-python",
   "name": "python",
   "nbconvert_exporter": "python",
   "pygments_lexer": "ipython3",
   "version": "3.10.12"
  }
 },
 "nbformat": 4,
 "nbformat_minor": 2
}
