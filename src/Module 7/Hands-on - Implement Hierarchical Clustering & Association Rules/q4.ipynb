{
 "cells": [
  {
   "cell_type": "code",
   "execution_count": 1,
   "metadata": {},
   "outputs": [
    {
     "name": "stdout",
     "output_type": "stream",
     "text": [
      "   support              itemsets\n",
      "0      0.6                (Beer)\n",
      "1      0.8               (Bread)\n",
      "2      0.6              (Diaper)\n",
      "3      1.0                (Milk)\n",
      "4      0.6        (Beer, Diaper)\n",
      "5      0.6          (Beer, Milk)\n",
      "6      0.8         (Milk, Bread)\n",
      "7      0.6        (Milk, Diaper)\n",
      "8      0.6  (Beer, Milk, Diaper)\n"
     ]
    }
   ],
   "source": [
    "# Question 4: Combine hierarchical clustering with Apriori to analyze clustered data and find frequent patterns within each cluster of a given dataset.\n",
    "\n",
    "import numpy as np\n",
    "import pandas as pd\n",
    "from scipy.cluster.hierarchy import linkage, fcluster\n",
    "from mlxtend.frequent_patterns import apriori\n",
    "from mlxtend.preprocessing import TransactionEncoder\n",
    "\n",
    "# Sample dataset\n",
    "data = np.array([[1, 2], [2, 3], [3, 3], [6, 5], [7, 8], [8, 8]])\n",
    "\n",
    "# Perform hierarchical clustering using ward linkage\n",
    "Z = linkage(data, method='ward')\n",
    "\n",
    "# Create clusters based on a given distance threshold\n",
    "clusters = fcluster(Z, t=5, criterion='distance')\n",
    "\n",
    "# Add the cluster labels to the data\n",
    "df = pd.DataFrame(data, columns=['Feature1', 'Feature2'])\n",
    "df['Cluster'] = clusters\n",
    "\n",
    "# Now let's assume we need to perform market basket analysis (apriori) on a clustered subset of data.\n",
    "# For demonstration, we convert the dataset into a transaction-like format based on clustering\n",
    "\n",
    "# Sample transactional dataset\n",
    "transactions = [\n",
    "    ['Milk', 'Bread'],\n",
    "    ['Milk', 'Diaper', 'Beer', 'Bread'],\n",
    "    ['Milk', 'Diaper', 'Beer', 'Coke'],\n",
    "    ['Bread', 'Egg', 'Milk'],\n",
    "    ['Bread', 'Egg', 'Diaper', 'Milk', 'Beer']\n",
    "]\n",
    "\n",
    "# Transform the transactions into a binary matrix\n",
    "te = TransactionEncoder()\n",
    "te_ary = te.fit(transactions).transform(transactions)\n",
    "df_trans = pd.DataFrame(te_ary, columns=te.columns_)\n",
    "\n",
    "# Apply Apriori on the entire dataset\n",
    "frequent_itemsets = apriori(df_trans, min_support=0.5, use_colnames=True)\n",
    "\n",
    "# Print the frequent itemsets\n",
    "print(frequent_itemsets)\n"
   ]
  }
 ],
 "metadata": {
  "kernelspec": {
   "display_name": "Python 3",
   "language": "python",
   "name": "python3"
  },
  "language_info": {
   "codemirror_mode": {
    "name": "ipython",
    "version": 3
   },
   "file_extension": ".py",
   "mimetype": "text/x-python",
   "name": "python",
   "nbconvert_exporter": "python",
   "pygments_lexer": "ipython3",
   "version": "3.10.12"
  }
 },
 "nbformat": 4,
 "nbformat_minor": 2
}
