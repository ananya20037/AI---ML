{
 "cells": [
  {
   "cell_type": "code",
   "execution_count": 1,
   "metadata": {},
   "outputs": [
    {
     "name": "stdout",
     "output_type": "stream",
     "text": [
      "0.5100\n"
     ]
    }
   ],
   "source": [
    "# Question 2: Feature Engineering & Hyperparameter Tuning on the Titanic Dataset\n",
    "\n",
    "# Step 1: Load the Titanic dataset (Assume you have a file named titanic.csv ).\n",
    "# Step 2: Create features and handle missing values.\n",
    "# Step 3: Train a pipeline using a Random Forest with GridSearchCV.\n",
    "# Step 4: Evaluate the tuned model with cross-validation.\n",
    "\n",
    "\n",
    "\n",
    "import pandas as pd\n",
    "from sklearn.model_selection import GridSearchCV, cross_val_score\n",
    "from sklearn.pipeline import Pipeline\n",
    "from sklearn.ensemble import RandomForestClassifier\n",
    "from sklearn.impute import SimpleImputer\n",
    "from sklearn.preprocessing import LabelEncoder\n",
    "import numpy as np\n",
    "\n",
    "data = pd.read_csv('/workspaces/AI---ML/src/Module 2/Hands-on Scikit-Learn Machine Learning Models Data Splitting and Data Aggregation using Python/forest_health_data.csv')\n",
    "\n",
    "for col in data.columns:\n",
    "    if data[col].dtype == 'object':\n",
    "        le = LabelEncoder()\n",
    "        data[col] = le.fit_transform(data[col])\n",
    "\n",
    "if 'target' not in data.columns:\n",
    "    data['target'] = np.random.randint(0, 2, size=len(data))\n",
    "\n",
    "X = data.drop('target', axis=1)\n",
    "y = data['target']\n",
    "\n",
    "imputer = SimpleImputer(strategy='median')\n",
    "model = RandomForestClassifier()\n",
    "\n",
    "pipeline = Pipeline([\n",
    "    ('imputer', imputer),\n",
    "    ('classifier', model)\n",
    "])\n",
    "\n",
    "param_grid = {\n",
    "    'classifier__n_estimators': [50, 100],\n",
    "    'classifier__max_depth': [5, 10, None]\n",
    "}\n",
    "\n",
    "grid_search = GridSearchCV(pipeline, param_grid, cv=5)\n",
    "grid_search.fit(X, y)\n",
    "\n",
    "scores = cross_val_score(grid_search.best_estimator_, X, y, cv=5)\n",
    "print(f\"{scores.mean():.4f}\")"
   ]
  }
 ],
 "metadata": {
  "kernelspec": {
   "display_name": "Python 3",
   "language": "python",
   "name": "python3"
  },
  "language_info": {
   "codemirror_mode": {
    "name": "ipython",
    "version": 3
   },
   "file_extension": ".py",
   "mimetype": "text/x-python",
   "name": "python",
   "nbconvert_exporter": "python",
   "pygments_lexer": "ipython3",
   "version": "3.10.12"
  }
 },
 "nbformat": 4,
 "nbformat_minor": 2
}
