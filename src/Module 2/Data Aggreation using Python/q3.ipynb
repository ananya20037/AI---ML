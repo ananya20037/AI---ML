{
 "cells": [
  {
   "cell_type": "markdown",
   "metadata": {},
   "source": [
    "Pivot Tables & Advanced Aggregations<br>\n",
    "Objective: Utilize pivot tables for complex aggregation tasks."
   ]
  },
  {
   "cell_type": "markdown",
   "metadata": {},
   "source": [
    "Task 1: Creating a Basic Pivot Table<br>\n",
    "Task: Create a pivot table that shows the total sales for each 'category' across 'years'.<br>\n",
    "Steps:<br>\n",
    "19. Use pandas pivot_table() function.<br>\n",
    "20. Set index='year' and columns='category' .<br>\n",
    "21. Define the value parameter as 'sales' and aggregation function as np.sum ."
   ]
  },
  {
   "cell_type": "code",
   "execution_count": 1,
   "metadata": {},
   "outputs": [
    {
     "name": "stdout",
     "output_type": "stream",
     "text": [
      "category    A    B\n",
      "year              \n",
      "2020      100  200\n",
      "2021      150  250\n",
      "2022      300  350\n"
     ]
    },
    {
     "name": "stderr",
     "output_type": "stream",
     "text": [
      "/tmp/ipykernel_6770/196927590.py:13: FutureWarning: The provided callable <function sum at 0x773997f23520> is currently using DataFrameGroupBy.sum. In a future version of pandas, the provided callable will be used directly. To keep current behavior pass the string \"sum\" instead.\n",
      "  pivot_table = pd.pivot_table(df, index='year', columns='category', values='sales', aggfunc=np.sum)\n"
     ]
    }
   ],
   "source": [
    "# Write your code from here\n",
    "import pandas as pd\n",
    "import numpy as np\n",
    "\n",
    "data = {\n",
    "    'year': [2020, 2020, 2021, 2021, 2022, 2022],\n",
    "    'category': ['A', 'B', 'A', 'B', 'A', 'B'],\n",
    "    'sales': [100, 200, 150, 250, 300, 350]\n",
    "}\n",
    "\n",
    "df = pd.DataFrame(data)\n",
    "\n",
    "pivot_table = pd.pivot_table(df, index='year', columns='category', values='sales', aggfunc=np.sum)\n",
    "print(pivot_table)\n"
   ]
  },
  {
   "cell_type": "markdown",
   "metadata": {},
   "source": [
    "Task 2: Pivot Table with Multiple Aggregations<br>\n",
    "\n",
    "Task: Generate a pivot table with both mean and max of 'profit' for 'category' each month.<br>\n",
    "Steps:<br>\n",
    "22. Create a pivot table.<br>\n",
    "23. Use aggfunc=['mean', 'max'] .<br>\n",
    "24. Analyze the pivot table output."
   ]
  },
  {
   "cell_type": "code",
   "execution_count": 2,
   "metadata": {},
   "outputs": [
    {
     "name": "stdout",
     "output_type": "stream",
     "text": [
      "           mean          max      \n",
      "category      A       B    A     B\n",
      "month                             \n",
      "Feb       700.0   800.0  700   800\n",
      "Jan       500.0   600.0  500   600\n",
      "Mar       900.0  1000.0  900  1000\n"
     ]
    }
   ],
   "source": [
    "# Write your code from here\n",
    "import pandas as pd\n",
    "\n",
    "data = {\n",
    "    'month': ['Jan', 'Jan', 'Feb', 'Feb', 'Mar', 'Mar'],\n",
    "    'category': ['A', 'B', 'A', 'B', 'A', 'B'],\n",
    "    'profit': [500, 600, 700, 800, 900, 1000]\n",
    "}\n",
    "\n",
    "df = pd.DataFrame(data)\n",
    "\n",
    "pivot_table = pd.pivot_table(df, index='month', columns='category', values='profit', aggfunc=['mean', 'max'])\n",
    "print(pivot_table)\n"
   ]
  },
  {
   "cell_type": "markdown",
   "metadata": {},
   "source": [
    "Task 3: Advanced Pivot Table with Margins<br>\n",
    "\n",
    "Task: Create a pivot table that includes subtotals for each 'region' and 'category'.<br>\n",
    "Steps:<br>\n",
    "25. Use pivot_table() with margins=True .<br>\n",
    "26. Set the index and columns appropriately.<br>\n",
    "27. Validate subtotal correctness by summing manually."
   ]
  },
  {
   "cell_type": "code",
   "execution_count": 4,
   "metadata": {},
   "outputs": [
    {
     "name": "stdout",
     "output_type": "stream",
     "text": [
      "category    A    B   All\n",
      "region                  \n",
      "East      300  350   650\n",
      "North     100  200   300\n",
      "South     150  250   400\n",
      "All       550  800  1350\n"
     ]
    },
    {
     "name": "stderr",
     "output_type": "stream",
     "text": [
      "/tmp/ipykernel_6770/80683797.py:12: FutureWarning: The provided callable <function sum at 0x773997f23520> is currently using DataFrameGroupBy.sum. In a future version of pandas, the provided callable will be used directly. To keep current behavior pass the string \"sum\" instead.\n",
      "  pivot_table = pd.pivot_table(df, index='region', columns='category', values='sales', aggfunc=np.sum, margins=True)\n",
      "/tmp/ipykernel_6770/80683797.py:12: FutureWarning: The provided callable <function sum at 0x773997f23520> is currently using DataFrameGroupBy.sum. In a future version of pandas, the provided callable will be used directly. To keep current behavior pass the string \"sum\" instead.\n",
      "  pivot_table = pd.pivot_table(df, index='region', columns='category', values='sales', aggfunc=np.sum, margins=True)\n",
      "/tmp/ipykernel_6770/80683797.py:12: FutureWarning: The provided callable <function sum at 0x773997f23520> is currently using DataFrameGroupBy.sum. In a future version of pandas, the provided callable will be used directly. To keep current behavior pass the string \"sum\" instead.\n",
      "  pivot_table = pd.pivot_table(df, index='region', columns='category', values='sales', aggfunc=np.sum, margins=True)\n"
     ]
    }
   ],
   "source": [
    "# Write your code from here\n",
    "import pandas as pd\n",
    "\n",
    "data = {\n",
    "    'region': ['North', 'North', 'South', 'South', 'East', 'East'],\n",
    "    'category': ['A', 'B', 'A', 'B', 'A', 'B'],\n",
    "    'sales': [100, 200, 150, 250, 300, 350]\n",
    "}\n",
    "\n",
    "df = pd.DataFrame(data)\n",
    "\n",
    "pivot_table = pd.pivot_table(df, index='region', columns='category', values='sales', aggfunc=np.sum, margins=True)\n",
    "print(pivot_table)\n"
   ]
  }
 ],
 "metadata": {
  "kernelspec": {
   "display_name": "Python 3",
   "language": "python",
   "name": "python3"
  },
  "language_info": {
   "codemirror_mode": {
    "name": "ipython",
    "version": 3
   },
   "file_extension": ".py",
   "mimetype": "text/x-python",
   "name": "python",
   "nbconvert_exporter": "python",
   "pygments_lexer": "ipython3",
   "version": "3.10.12"
  }
 },
 "nbformat": 4,
 "nbformat_minor": 2
}
