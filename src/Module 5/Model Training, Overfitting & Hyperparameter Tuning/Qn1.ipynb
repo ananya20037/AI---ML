{
 "cells": [
  {
   "cell_type": "markdown",
   "metadata": {},
   "source": [
    "Title: Data Splitting (Train-Test-Validation)"
   ]
  },
  {
   "cell_type": "markdown",
   "metadata": {},
   "source": [
    "\n",
    "Task 1: House Prices Dataset (Regression)<br>\n",
    "Use the House Prices dataset to predict house prices.<br>\n",
    "Split the data into training, validation, and test sets (70% train, 15% validation, 15% test)."
   ]
  },
  {
   "cell_type": "code",
   "execution_count": 4,
   "metadata": {},
   "outputs": [
    {
     "name": "stderr",
     "output_type": "stream",
     "text": [
      "/tmp/ipykernel_3722/1929933294.py:21: SettingWithCopyWarning: \n",
      "A value is trying to be set on a copy of a slice from a DataFrame\n",
      "\n",
      "See the caveats in the documentation: https://pandas.pydata.org/pandas-docs/stable/user_guide/indexing.html#returning-a-view-versus-a-copy\n",
      "  df.dropna(subset=['SalePrice'], inplace=True)\n"
     ]
    },
    {
     "name": "stdout",
     "output_type": "stream",
     "text": [
      "\n",
      "RandomForest - Validation Set Performance:\n",
      "MAE: 22383.14\n",
      "MSE: 1059954942.95\n",
      "R2 Score: 0.83\n",
      "\n",
      "RandomForest - Test Set Performance:\n",
      "MAE: 21134.10\n",
      "MSE: 1063910243.56\n",
      "R2 Score: 0.86\n",
      "\n",
      "LinearRegression - Validation Set Performance:\n",
      "MAE: 25551.10\n",
      "MSE: 1128531065.17\n",
      "R2 Score: 0.82\n",
      "\n",
      "LinearRegression - Test Set Performance:\n",
      "MAE: 29061.71\n",
      "MSE: 2098725849.80\n",
      "R2 Score: 0.72\n"
     ]
    }
   ],
   "source": [
    "import numpy as np\n",
    "import pandas as pd\n",
    "from sklearn.datasets import fetch_openml\n",
    "from sklearn.model_selection import train_test_split\n",
    "from sklearn.pipeline import Pipeline\n",
    "from sklearn.compose import ColumnTransformer\n",
    "from sklearn.impute import SimpleImputer\n",
    "from sklearn.ensemble import RandomForestRegressor\n",
    "from sklearn.linear_model import LinearRegression\n",
    "from sklearn.metrics import mean_squared_error, mean_absolute_error, r2_score\n",
    "\n",
    "# Step 1: Load real-world housing dataset from OpenML (House Prices)\n",
    "try:\n",
    "    housing = fetch_openml(name='house_prices', as_frame=True)\n",
    "    df = housing.frame\n",
    "except Exception as e:\n",
    "    raise RuntimeError(f\"Failed to fetch dataset: {e}\")\n",
    "\n",
    "# Step 2: Select numerical features and drop rows with missing target\n",
    "df = df[['OverallQual', 'GrLivArea', 'GarageCars', 'TotRmsAbvGrd', 'YearBuilt', 'SalePrice']]\n",
    "df.dropna(subset=['SalePrice'], inplace=True)\n",
    "\n",
    "# Define features and target\n",
    "X = df.drop('SalePrice', axis=1)\n",
    "y = df['SalePrice']\n",
    "\n",
    "# Step 3: Split into train (70%), validation (15%), and test (15%) — using random_state=42 for reproducibility\n",
    "X_train, X_temp, y_train, y_temp = train_test_split(X, y, test_size=0.3, random_state=42)\n",
    "X_val, X_test, y_val, y_test = train_test_split(X_temp, y_temp, test_size=0.5, random_state=42)\n",
    "\n",
    "# Step 4: Preprocessing — impute missing values using median (more robust than mean)\n",
    "numerical_features = X.columns.tolist()\n",
    "numerical_transformer = SimpleImputer(strategy='median')\n",
    "preprocessor = ColumnTransformer(transformers=[('num', numerical_transformer, numerical_features)])\n",
    "\n",
    "# Step 5: Define models — include a simpler model for comparison\n",
    "models = {\n",
    "    \"RandomForest\": RandomForestRegressor(n_estimators=100, random_state=42),\n",
    "    \"LinearRegression\": LinearRegression()\n",
    "}\n",
    "\n",
    "# Step 6: Train and evaluate both models\n",
    "for name, model in models.items():\n",
    "    pipeline = Pipeline([\n",
    "        ('preprocessor', preprocessor),\n",
    "        ('regressor', model)\n",
    "    ])\n",
    "    \n",
    "    try:\n",
    "        pipeline.fit(X_train, y_train)\n",
    "        y_val_pred = pipeline.predict(X_val)\n",
    "        y_test_pred = pipeline.predict(X_test)\n",
    "\n",
    "        # Validation metrics\n",
    "        print(f\"\\n{name} - Validation Set Performance:\")\n",
    "        print(f\"MAE: {mean_absolute_error(y_val, y_val_pred):.2f}\")\n",
    "        print(f\"MSE: {mean_squared_error(y_val, y_val_pred):.2f}\")\n",
    "        print(f\"R2 Score: {r2_score(y_val, y_val_pred):.2f}\")\n",
    "\n",
    "        # Test metrics\n",
    "        print(f\"\\n{name} - Test Set Performance:\")\n",
    "        print(f\"MAE: {mean_absolute_error(y_test, y_test_pred):.2f}\")\n",
    "        print(f\"MSE: {mean_squared_error(y_test, y_test_pred):.2f}\")\n",
    "        print(f\"R2 Score: {r2_score(y_test, y_test_pred):.2f}\")\n",
    "        \n",
    "    except Exception as e:\n",
    "        print(f\"{name} training failed: {e}\")\n"
   ]
  },
  {
   "cell_type": "markdown",
   "metadata": {},
   "source": [
    "Task 2: Iris Dataset (Classification)<br>\n",
    "Apply data splitting to the Iris dataset.<br>\n",
    "Split it into train (70%), validation (15%), and test (15%).\n"
   ]
  },
  {
   "cell_type": "code",
   "execution_count": 5,
   "metadata": {},
   "outputs": [],
   "source": [
    "# Task 2: Iris Dataset Classification — Data Splitting\n",
    "from sklearn.datasets import load_iris\n",
    "from sklearn.model_selection import train_test_split\n",
    "\n",
    "data = load_iris()\n",
    "X = data.data\n",
    "y = data.target\n",
    "\n",
    "# 70% train, 15% validation, 15% test\n",
    "# random_state=42 ensures reproducible splits\n",
    "X_train, X_temp, y_train, y_temp = train_test_split(X, y, test_size=0.3, random_state=42)\n",
    "X_val, X_test, y_val, y_test = train_test_split(X_temp, y_temp, test_size=0.5, random_state=42)\n"
   ]
  },
  {
   "cell_type": "markdown",
   "metadata": {},
   "source": [
    "\n",
    "Task 3: Customer Churn Dataset (Classification)<br>\n",
    "Predict customer churn using the telecom dataset.<br>\n",
    "Split the data into training, validation, and test sets."
   ]
  },
  {
   "cell_type": "code",
   "execution_count": 7,
   "metadata": {},
   "outputs": [],
   "source": [
    "# Task 3: Customer Churn Dataset Simulation — Classification\n",
    "from sklearn.datasets import make_classification\n",
    "from sklearn.model_selection import train_test_split\n",
    "\n",
    "# Simulate a telecom churn dataset (binary classification)\n",
    "X, y = make_classification(n_samples=1000, n_features=20, n_classes=2, random_state=42)\n",
    "\n",
    "# Split the dataset: 70% train, 15% validation, 15% test\n",
    "X_train, X_temp, y_train, y_temp = train_test_split(X, y, test_size=0.3, random_state=42)\n",
    "X_val, X_test, y_val, y_test = train_test_split(X_temp, y_temp, test_size=0.5, random_state=42)\n",
    "\n"
   ]
  }
 ],
 "metadata": {
  "kernelspec": {
   "display_name": "Python 3",
   "language": "python",
   "name": "python3"
  },
  "language_info": {
   "codemirror_mode": {
    "name": "ipython",
    "version": 3
   },
   "file_extension": ".py",
   "mimetype": "text/x-python",
   "name": "python",
   "nbconvert_exporter": "python",
   "pygments_lexer": "ipython3",
   "version": "3.10.12"
  }
 },
 "nbformat": 4,
 "nbformat_minor": 2
}
