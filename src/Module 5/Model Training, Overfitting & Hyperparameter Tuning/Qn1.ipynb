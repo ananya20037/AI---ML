{
 "cells": [
  {
   "cell_type": "markdown",
   "metadata": {},
   "source": [
    "Title: Data Splitting (Train-Test-Validation)"
   ]
  },
  {
   "cell_type": "markdown",
   "metadata": {},
   "source": [
    "\n",
    "Task 1: House Prices Dataset (Regression)<br>\n",
    "Use the House Prices dataset to predict house prices.<br>\n",
    "Split the data into training, validation, and test sets (70% train, 15% validation, 15% test)."
   ]
  },
  {
   "cell_type": "code",
   "execution_count": 3,
   "metadata": {},
   "outputs": [
    {
     "name": "stdout",
     "output_type": "stream",
     "text": [
      "Validation Set Performance:\n",
      "MAE: 8400.00\n",
      "MSE: 70560000.00\n",
      "R2 Score: nan\n",
      "\n",
      "Test Set Performance:\n",
      "MAE: 57600.00\n",
      "MSE: 3317760000.00\n",
      "R2 Score: nan\n"
     ]
    },
    {
     "name": "stderr",
     "output_type": "stream",
     "text": [
      "/home/vscode/.local/lib/python3.10/site-packages/sklearn/metrics/_regression.py:1266: UndefinedMetricWarning: R^2 score is not well-defined with less than two samples.\n",
      "  warnings.warn(msg, UndefinedMetricWarning)\n",
      "/home/vscode/.local/lib/python3.10/site-packages/sklearn/metrics/_regression.py:1266: UndefinedMetricWarning: R^2 score is not well-defined with less than two samples.\n",
      "  warnings.warn(msg, UndefinedMetricWarning)\n"
     ]
    }
   ],
   "source": [
    "import numpy as np\n",
    "import pandas as pd\n",
    "from sklearn.model_selection import train_test_split\n",
    "from sklearn.linear_model import LinearRegression\n",
    "from sklearn.metrics import mean_squared_error, mean_absolute_error, r2_score\n",
    "from sklearn.impute import SimpleImputer\n",
    "from sklearn.preprocessing import OneHotEncoder\n",
    "from sklearn.compose import ColumnTransformer\n",
    "from sklearn.pipeline import Pipeline\n",
    "from sklearn.ensemble import RandomForestRegressor\n",
    "\n",
    "\n",
    "data = {\n",
    "    'OverallQual': [7, 6, 7, 8, 5],\n",
    "    'GrLivArea': [1500, 1800, 1200, 2500, 1500],\n",
    "    'GarageCars': [2, 2, 1, 3, 2],\n",
    "    'TotRmsAbvGrd': [8, 6, 7, 9, 8],\n",
    "    'YearBuilt': [2000, 1998, 2005, 2010, 2001],\n",
    "    'Price': [200000, 180000, 160000, 300000, 250000]  # Target variable\n",
    "}\n",
    "df = pd.DataFrame(data)\n",
    "\n",
    "# Step 2: Split the dataset into features (X) and target variable (y)\n",
    "X = df.drop('Price', axis=1)  # Features\n",
    "y = df['Price']  # Target\n",
    "\n",
    "# Step 3: Split the data into training, validation, and test sets (70% train, 15% validation, 15% test)\n",
    "X_train, X_temp, y_train, y_temp = train_test_split(X, y, test_size=0.3, random_state=42)\n",
    "X_val, X_test, y_val, y_test = train_test_split(X_temp, y_temp, test_size=0.5, random_state=42)\n",
    "\n",
    "\n",
    "numerical_features = ['OverallQual', 'GrLivArea', 'GarageCars', 'TotRmsAbvGrd', 'YearBuilt']\n",
    "numerical_transformer = SimpleImputer(strategy='mean')\n",
    "\n",
    "# Define a column transformer (for handling categorical and numerical features)\n",
    "preprocessor = ColumnTransformer(\n",
    "    transformers=[\n",
    "        ('num', numerical_transformer, numerical_features)\n",
    "    ])\n",
    "\n",
    "# Step 5: Build a Regression Pipeline (e.g., using Random Forest for better accuracy)\n",
    "model = RandomForestRegressor(n_estimators=100, random_state=42)\n",
    "\n",
    "# Combine preprocessing and model into a pipeline\n",
    "pipeline = Pipeline(steps=[\n",
    "    ('preprocessor', preprocessor),\n",
    "    ('model', model)\n",
    "])\n",
    "\n",
    "# Step 6: Train the model on the training set\n",
    "pipeline.fit(X_train, y_train)\n",
    "\n",
    "# Step 7: Evaluate the model on the validation set\n",
    "y_val_pred = pipeline.predict(X_val)\n",
    "\n",
    "# Calculate evaluation metrics (MAE, MSE, R2 score)\n",
    "mae_val = mean_absolute_error(y_val, y_val_pred)\n",
    "mse_val = mean_squared_error(y_val, y_val_pred)\n",
    "r2_val = r2_score(y_val, y_val_pred)\n",
    "\n",
    "print(f\"Validation Set Performance:\")\n",
    "print(f\"MAE: {mae_val:.2f}\")\n",
    "print(f\"MSE: {mse_val:.2f}\")\n",
    "print(f\"R2 Score: {r2_val:.2f}\")\n",
    "\n",
    "\n",
    "y_test_pred = pipeline.predict(X_test)\n",
    "\n",
    "mae_test = mean_absolute_error(y_test, y_test_pred)\n",
    "mse_test = mean_squared_error(y_test, y_test_pred)\n",
    "r2_test = r2_score(y_test, y_test_pred)\n",
    "\n",
    "print(f\"\\nTest Set Performance:\")\n",
    "print(f\"MAE: {mae_test:.2f}\")\n",
    "print(f\"MSE: {mse_test:.2f}\")\n",
    "print(f\"R2 Score: {r2_test:.2f}\")\n",
    "\n"
   ]
  },
  {
   "cell_type": "markdown",
   "metadata": {},
   "source": [
    "Task 2: Iris Dataset (Classification)<br>\n",
    "Apply data splitting to the Iris dataset.<br>\n",
    "Split it into train (70%), validation (15%), and test (15%).\n"
   ]
  },
  {
   "cell_type": "code",
   "execution_count": 2,
   "metadata": {},
   "outputs": [],
   "source": [
    "# Write your code here\n",
    "from sklearn.datasets import load_iris\n",
    "from sklearn.model_selection import train_test_split\n",
    "\n",
    "data = load_iris()\n",
    "X = data.data\n",
    "y = data.target\n",
    "\n",
    "X_train, X_temp, y_train, y_temp = train_test_split(X, y, test_size=0.3, random_state=42)\n",
    "X_val, X_test, y_val, y_test = train_test_split(X_temp, y_temp, test_size=0.5, random_state=42)\n"
   ]
  },
  {
   "cell_type": "markdown",
   "metadata": {},
   "source": [
    "\n",
    "Task 3: Customer Churn Dataset (Classification)<br>\n",
    "Predict customer churn using the telecom dataset.<br>\n",
    "Split the data into training, validation, and test sets."
   ]
  },
  {
   "cell_type": "code",
   "execution_count": 1,
   "metadata": {},
   "outputs": [],
   "source": [
    "from sklearn.datasets import make_classification\n",
    "from sklearn.model_selection import train_test_split\n",
    "\n",
    "X, y = make_classification(n_samples=1000, n_features=20, n_classes=2, random_state=42)\n",
    "\n",
    "X_train, X_temp, y_train, y_temp = train_test_split(X, y, test_size=0.3, random_state=42)\n",
    "X_val, X_test, y_val, y_test = train_test_split(X_temp, y_temp, test_size=0.5, random_state=42)\n",
    "\n"
   ]
  }
 ],
 "metadata": {
  "kernelspec": {
   "display_name": "Python 3",
   "language": "python",
   "name": "python3"
  },
  "language_info": {
   "codemirror_mode": {
    "name": "ipython",
    "version": 3
   },
   "file_extension": ".py",
   "mimetype": "text/x-python",
   "name": "python",
   "nbconvert_exporter": "python",
   "pygments_lexer": "ipython3",
   "version": "3.10.12"
  }
 },
 "nbformat": 4,
 "nbformat_minor": 2
}
