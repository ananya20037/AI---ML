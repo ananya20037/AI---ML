{
 "cells": [
  {
   "cell_type": "markdown",
   "metadata": {},
   "source": [
    "Question 3: Calculate R2 Score <br>\n",
    "\n",
    "Description:<br>\n",
    "Calculate the R2 score for a set of predicted values."
   ]
  },
  {
   "cell_type": "code",
   "execution_count": 1,
   "metadata": {},
   "outputs": [
    {
     "name": "stdout",
     "output_type": "stream",
     "text": [
      "R2 Score: 0.95\n"
     ]
    }
   ],
   "source": [
    "from sklearn.metrics import r2_score\n",
    "import numpy as np\n",
    "\n",
    "try:\n",
    "    y_actual = np.array([3, -0.5, 2, 7])\n",
    "    y_pred = np.array([2.5, 0.0, 2, 8])\n",
    "\n",
    "    if len(y_actual) != len(y_pred):\n",
    "        raise ValueError(\"Length mismatch: 'y_actual' and 'y_pred' must be of the same length.\")\n",
    "    if np.any(np.isnan(y_actual)) or np.any(np.isnan(y_pred)):\n",
    "        raise ValueError(\"Input arrays contain NaN values.\")\n",
    "    if np.any(np.isinf(y_actual)) or np.any(np.isinf(y_pred)):\n",
    "        raise ValueError(\"Input arrays contain infinite values.\")\n",
    "\n",
    "    r2 = r2_score(y_actual, y_pred)\n",
    "    print(f'R2 Score: {r2:.2f}')\n",
    "\n",
    "except Exception as e:\n",
    "    print(f\"Error: {e}\")\n"
   ]
  }
 ],
 "metadata": {
  "kernelspec": {
   "display_name": "Python 3",
   "language": "python",
   "name": "python3"
  },
  "language_info": {
   "codemirror_mode": {
    "name": "ipython",
    "version": 3
   },
   "file_extension": ".py",
   "mimetype": "text/x-python",
   "name": "python",
   "nbconvert_exporter": "python",
   "pygments_lexer": "ipython3",
   "version": "3.10.12"
  }
 },
 "nbformat": 4,
 "nbformat_minor": 2
}
