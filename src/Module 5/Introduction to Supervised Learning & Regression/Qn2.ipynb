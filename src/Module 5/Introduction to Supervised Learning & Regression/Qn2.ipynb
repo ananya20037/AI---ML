{
 "cells": [
  {
   "cell_type": "markdown",
   "metadata": {},
   "source": [
    "Title: Types of Supervised Learning: Regression & Classification"
   ]
  },
  {
   "cell_type": "markdown",
   "metadata": {},
   "source": [
    "\n",
    "Task 1: Categorize predicting temperatures (regression) vs. identifying animal species in photo(classification)."
   ]
  },
  {
   "cell_type": "code",
   "execution_count": 1,
   "metadata": {},
   "outputs": [
    {
     "name": "stdout",
     "output_type": "stream",
     "text": [
      "Regression Predictions (Temperature):\n",
      "[-7.74911325  7.13235741  3.16860862  8.2169774   0.08854158]\n",
      "\n",
      "Classification Predictions (Species IDs):\n",
      "[2 2 2 0 2]\n"
     ]
    }
   ],
   "source": [
    "# Write your code here\n",
    "from sklearn.datasets import make_regression, load_iris\n",
    "from sklearn.linear_model import LinearRegression\n",
    "from sklearn.ensemble import RandomForestClassifier\n",
    "from sklearn.model_selection import train_test_split\n",
    "\n",
    "# --- Regression Task: Predicting Temperatures ---\n",
    "X_reg, y_reg = make_regression(n_samples=100, n_features=1, noise=15)\n",
    "Xr_train, Xr_test, yr_train, yr_test = train_test_split(X_reg, y_reg, test_size=0.2)\n",
    "\n",
    "reg_model = LinearRegression()\n",
    "reg_model.fit(Xr_train, yr_train)\n",
    "reg_predictions = reg_model.predict(Xr_test)\n",
    "\n",
    "print(\"Regression Predictions (Temperature):\")\n",
    "print(reg_predictions[:5])\n",
    "\n",
    "# --- Classification Task: Identifying Species ---\n",
    "iris = load_iris()\n",
    "X_cls, y_cls = iris.data, iris.target\n",
    "Xc_train, Xc_test, yc_train, yc_test = train_test_split(X_cls, y_cls, test_size=0.2)\n",
    "\n",
    "clf_model = RandomForestClassifier()\n",
    "clf_model.fit(Xc_train, yc_train)\n",
    "cls_predictions = clf_model.predict(Xc_test)\n",
    "\n",
    "print(\"\\nClassification Predictions (Species IDs):\")\n",
    "print(cls_predictions[:5])\n"
   ]
  },
  {
   "cell_type": "markdown",
   "metadata": {},
   "source": [
    "Task 2: Discuss and decide if predicting GPA based on study hours (regression)"
   ]
  },
  {
   "cell_type": "code",
   "execution_count": 2,
   "metadata": {},
   "outputs": [
    {
     "name": "stdout",
     "output_type": "stream",
     "text": [
      "Predicted GPA values:\n",
      "[3.2 2.8]\n"
     ]
    }
   ],
   "source": [
    "# Write your code here\n",
    "import numpy as np\n",
    "from sklearn.linear_model import LinearRegression\n",
    "from sklearn.model_selection import train_test_split\n",
    "\n",
    "# Simulated data: study hours vs GPA\n",
    "study_hours = np.array([1, 2, 3, 4, 5, 6, 7, 8, 9, 10]).reshape(-1, 1)\n",
    "gpa = np.array([2.0, 2.2, 2.4, 2.6, 2.9, 3.0, 3.2, 3.4, 3.6, 3.8])\n",
    "\n",
    "# Train-test split\n",
    "X_train, X_test, y_train, y_test = train_test_split(study_hours, gpa, test_size=0.2)\n",
    "\n",
    "# Model\n",
    "model = LinearRegression()\n",
    "model.fit(X_train, y_train)\n",
    "\n",
    "# Predict\n",
    "predictions = model.predict(X_test)\n",
    "\n",
    "print(\"Predicted GPA values:\")\n",
    "print(predictions)\n"
   ]
  },
  {
   "cell_type": "markdown",
   "metadata": {},
   "source": [
    "\n",
    "Task 3: Evaluate whether a model for predicting customer churn is classification or regression."
   ]
  },
  {
   "cell_type": "code",
   "execution_count": 3,
   "metadata": {},
   "outputs": [
    {
     "name": "stdout",
     "output_type": "stream",
     "text": [
      "Predicted Churn Labels:\n",
      "[1 1 0 1 1 0 1 0 0 1 1 0 1 1 1 1 1 1 1 1]\n"
     ]
    }
   ],
   "source": [
    "# Write your code here\n",
    "import numpy as np\n",
    "from sklearn.ensemble import RandomForestClassifier\n",
    "from sklearn.model_selection import train_test_split\n",
    "\n",
    "# Simulated data: features might include usage, complaints, support calls, etc.\n",
    "X = np.random.rand(100, 4)  # 100 customers, 4 features\n",
    "y = np.random.choice([0, 1], size=100)  # 0 = Not Churned, 1 = Churned\n",
    "\n",
    "# Train-test split\n",
    "X_train, X_test, y_train, y_test = train_test_split(X, y, test_size=0.2)\n",
    "\n",
    "# Model\n",
    "model = RandomForestClassifier()\n",
    "model.fit(X_train, y_train)\n",
    "\n",
    "# Predict\n",
    "predictions = model.predict(X_test)\n",
    "\n",
    "print(\"Predicted Churn Labels:\")\n",
    "print(predictions)\n"
   ]
  }
 ],
 "metadata": {
  "kernelspec": {
   "display_name": "Python 3",
   "language": "python",
   "name": "python3"
  },
  "language_info": {
   "codemirror_mode": {
    "name": "ipython",
    "version": 3
   },
   "file_extension": ".py",
   "mimetype": "text/x-python",
   "name": "python",
   "nbconvert_exporter": "python",
   "pygments_lexer": "ipython3",
   "version": "3.10.12"
  }
 },
 "nbformat": 4,
 "nbformat_minor": 2
}
