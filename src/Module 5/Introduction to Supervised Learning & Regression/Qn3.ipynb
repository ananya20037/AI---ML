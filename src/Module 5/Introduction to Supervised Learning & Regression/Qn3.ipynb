{
 "cells": [
  {
   "cell_type": "markdown",
   "metadata": {},
   "source": [
    "Title: Regression Models"
   ]
  },
  {
   "cell_type": "markdown",
   "metadata": {},
   "source": [
    "Linear Regression (Simple & Multiple)"
   ]
  },
  {
   "cell_type": "markdown",
   "metadata": {},
   "source": [
    "Task 1: Differentiate between a labeled dataset of image classifications and an unlabeled dataset for clustering customer segments."
   ]
  },
  {
   "cell_type": "code",
   "execution_count": 1,
   "metadata": {},
   "outputs": [
    {
     "name": "stdout",
     "output_type": "stream",
     "text": [
      "Image Classification Predictions (first 5):\n",
      "[5 4 0 8 2]\n",
      "\n",
      "Customer Segment Cluster Labels (first 5):\n",
      "[1 2 0 2 1]\n"
     ]
    }
   ],
   "source": [
    "# Write your code here\n",
    "from sklearn.datasets import load_digits, make_blobs\n",
    "from sklearn.model_selection import train_test_split\n",
    "from sklearn.ensemble import RandomForestClassifier\n",
    "from sklearn.cluster import KMeans\n",
    "\n",
    "# --- Supervised Learning: Image Classification ---\n",
    "digits = load_digits()\n",
    "X_img, y_img = digits.data, digits.target\n",
    "X_img_train, X_img_test, y_img_train, y_img_test = train_test_split(X_img, y_img, test_size=0.2)\n",
    "\n",
    "clf = RandomForestClassifier()\n",
    "clf.fit(X_img_train, y_img_train)\n",
    "img_predictions = clf.predict(X_img_test)\n",
    "\n",
    "print(\"Image Classification Predictions (first 5):\")\n",
    "print(img_predictions[:5])\n",
    "\n",
    "# --- Unsupervised Learning: Clustering Customer Segments ---\n",
    "X_cluster, _ = make_blobs(n_samples=100, centers=3, n_features=2, random_state=42)\n",
    "\n",
    "kmeans = KMeans(n_clusters=3, random_state=42)\n",
    "kmeans.fit(X_cluster)\n",
    "cluster_labels = kmeans.labels_\n",
    "\n",
    "print(\"\\nCustomer Segment Cluster Labels (first 5):\")\n",
    "print(cluster_labels[:5])\n"
   ]
  },
  {
   "cell_type": "markdown",
   "metadata": {},
   "source": [
    "Task 2: Examine a problem statement and determine which learning type is applicable.<br>"
   ]
  },
  {
   "cell_type": "code",
   "execution_count": 2,
   "metadata": {},
   "outputs": [
    {
     "name": "stdout",
     "output_type": "stream",
     "text": [
      "Loan Approval Predictions (0=No, 1=Yes):\n",
      "[1 1 0 1 0]\n"
     ]
    }
   ],
   "source": [
    "# Write your code here\n",
    "import numpy as np\n",
    "from sklearn.ensemble import RandomForestClassifier\n",
    "from sklearn.model_selection import train_test_split\n",
    "\n",
    "# Simulated data: [income, credit_score, employment_status_encoded]\n",
    "X = np.random.rand(100, 3)  # 100 applicants, 3 features\n",
    "y = np.random.choice([0, 1], size=100)  # 0 = Not Approved, 1 = Approved\n",
    "\n",
    "# Train-test split\n",
    "X_train, X_test, y_train, y_test = train_test_split(X, y, test_size=0.2)\n",
    "\n",
    "# Model\n",
    "model = RandomForestClassifier()\n",
    "model.fit(X_train, y_train)\n",
    "\n",
    "# Predict\n",
    "predictions = model.predict(X_test)\n",
    "\n",
    "print(\"Loan Approval Predictions (0=No, 1=Yes):\")\n",
    "print(predictions[:5])\n"
   ]
  },
  {
   "cell_type": "markdown",
   "metadata": {},
   "source": [
    "Task 3: Identify whether facial recognition systems use supervised or unsupervised learning and justify."
   ]
  },
  {
   "cell_type": "code",
   "execution_count": 3,
   "metadata": {},
   "outputs": [
    {
     "name": "stdout",
     "output_type": "stream",
     "text": [
      "Facial Recognition Predictions (first 5):\n",
      "[ 3  3 11 11  3]\n"
     ]
    }
   ],
   "source": [
    "from sklearn.datasets import fetch_lfw_people\n",
    "from sklearn.model_selection import train_test_split\n",
    "from sklearn.ensemble import RandomForestClassifier\n",
    "\n",
    "# Load labeled face data (people with at least 50 images)\n",
    "faces = fetch_lfw_people(min_faces_per_person=50, resize=0.4)\n",
    "X, y = faces.data, faces.target\n",
    "\n",
    "# Train-test split\n",
    "X_train, X_test, y_train, y_test = train_test_split(X, y, test_size=0.2)\n",
    "\n",
    "# Model\n",
    "clf = RandomForestClassifier()\n",
    "clf.fit(X_train, y_train)\n",
    "\n",
    "# Predict\n",
    "predictions = clf.predict(X_test)\n",
    "\n",
    "print(\"Facial Recognition Predictions (first 5):\")\n",
    "print(predictions[:5])\n",
    "# Write your code here"
   ]
  }
 ],
 "metadata": {
  "kernelspec": {
   "display_name": "Python 3",
   "language": "python",
   "name": "python3"
  },
  "language_info": {
   "codemirror_mode": {
    "name": "ipython",
    "version": 3
   },
   "file_extension": ".py",
   "mimetype": "text/x-python",
   "name": "python",
   "nbconvert_exporter": "python",
   "pygments_lexer": "ipython3",
   "version": "3.10.12"
  }
 },
 "nbformat": 4,
 "nbformat_minor": 2
}
