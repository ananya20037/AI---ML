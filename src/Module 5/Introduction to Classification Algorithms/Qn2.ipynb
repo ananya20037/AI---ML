{
 "cells": [
  {
   "cell_type": "markdown",
   "metadata": {},
   "source": [
    "Title: Binary vs. Multi-Class Classification<br>\n",
    "\n",
    "Task 1:<br>\n",
    "Binary Classification: Predict if a website visitor will click a button (Click or No Click).<br>\n",
    "Use a web visitor interaction dataset.<br>\n",
    "Task: Implement binary classification for click prediction."
   ]
  },
  {
   "cell_type": "code",
   "execution_count": 1,
   "metadata": {},
   "outputs": [
    {
     "name": "stdout",
     "output_type": "stream",
     "text": [
      "Binary Classification - Click Prediction\n",
      "Accuracy: 0.3333333333333333\n",
      "              precision    recall  f1-score   support\n",
      "\n",
      "           0       0.33      1.00      0.50         1\n",
      "           1       0.00      0.00      0.00         2\n",
      "\n",
      "    accuracy                           0.33         3\n",
      "   macro avg       0.17      0.50      0.25         3\n",
      "weighted avg       0.11      0.33      0.17         3\n",
      "\n"
     ]
    },
    {
     "name": "stderr",
     "output_type": "stream",
     "text": [
      "/home/vscode/.local/lib/python3.10/site-packages/sklearn/metrics/_classification.py:1565: UndefinedMetricWarning: Precision is ill-defined and being set to 0.0 in labels with no predicted samples. Use `zero_division` parameter to control this behavior.\n",
      "  _warn_prf(average, modifier, f\"{metric.capitalize()} is\", len(result))\n",
      "/home/vscode/.local/lib/python3.10/site-packages/sklearn/metrics/_classification.py:1565: UndefinedMetricWarning: Precision is ill-defined and being set to 0.0 in labels with no predicted samples. Use `zero_division` parameter to control this behavior.\n",
      "  _warn_prf(average, modifier, f\"{metric.capitalize()} is\", len(result))\n",
      "/home/vscode/.local/lib/python3.10/site-packages/sklearn/metrics/_classification.py:1565: UndefinedMetricWarning: Precision is ill-defined and being set to 0.0 in labels with no predicted samples. Use `zero_division` parameter to control this behavior.\n",
      "  _warn_prf(average, modifier, f\"{metric.capitalize()} is\", len(result))\n"
     ]
    }
   ],
   "source": [
    "import pandas as pd\n",
    "from sklearn.model_selection import train_test_split\n",
    "from sklearn.linear_model import LogisticRegression\n",
    "from sklearn.preprocessing import LabelEncoder\n",
    "from sklearn.metrics import accuracy_score, classification_report\n",
    "\n",
    "def validate_numeric_column(col, col_name):\n",
    "    if not all(isinstance(i, (int, float)) for i in col):\n",
    "        raise ValueError(f'{col_name} must be numeric.')\n",
    "\n",
    "def binary_classification_click_prediction():\n",
    "    data = {\n",
    "        'time_on_page': [30, 45, 25, 50, 20, 35, 60, 15, 40, 55],\n",
    "        'scroll_depth': [80, 90, 60, 95, 50, 70, 100, 40, 85, 90],\n",
    "        'device': ['mobile', 'desktop', 'mobile', 'desktop', 'mobile', 'desktop', 'desktop', 'mobile', 'desktop', 'mobile'],\n",
    "        'clicked': ['yes', 'no', 'yes', 'yes', 'no', 'no', 'yes', 'no', 'yes', 'no']\n",
    "    }\n",
    "\n",
    "    df = pd.DataFrame(data)\n",
    "\n",
    "    validate_numeric_column(df['time_on_page'], 'time_on_page')\n",
    "    validate_numeric_column(df['scroll_depth'], 'scroll_depth')\n",
    "\n",
    "    le = LabelEncoder()\n",
    "    df['device'] = le.fit_transform(df['device'])\n",
    "    df['clicked'] = le.fit_transform(df['clicked'])\n",
    "\n",
    "    X = df.drop('clicked', axis=1)\n",
    "    y = df['clicked']\n",
    "\n",
    "    X_train, X_test, y_train, y_test = train_test_split(X, y, test_size=0.3, random_state=0)\n",
    "\n",
    "    model = LogisticRegression()\n",
    "    try:\n",
    "        model.fit(X_train, y_train)\n",
    "    except Exception as e:\n",
    "        print(\"Model training failed:\", e)\n",
    "        return\n",
    "\n",
    "    y_pred = model.predict(X_test)\n",
    "    print(\"Binary Classification - Click Prediction\")\n",
    "    print(\"Accuracy:\", accuracy_score(y_test, y_pred))\n",
    "    print(classification_report(y_test, y_pred))\n",
    "\n",
    "binary_classification_click_prediction()\n"
   ]
  },
  {
   "cell_type": "markdown",
   "metadata": {},
   "source": [
    "Task 2:<br>\n",
    "Multi-Class Classification: Recognize handwritten digits (0-9).<br>\n",
    "Use the MNIST dataset.<br>\n",
    "Task: Develop a model that correctly classifies each handwritten digit.<br>\n"
   ]
  },
  {
   "cell_type": "code",
   "execution_count": 2,
   "metadata": {},
   "outputs": [
    {
     "name": "stdout",
     "output_type": "stream",
     "text": [
      "Multi-Class Classification - MNIST\n",
      "Accuracy: 0.975\n",
      "              precision    recall  f1-score   support\n",
      "\n",
      "           0       1.00      1.00      1.00        33\n",
      "           1       0.97      1.00      0.98        28\n",
      "           2       1.00      1.00      1.00        33\n",
      "           3       0.97      0.97      0.97        34\n",
      "           4       1.00      0.98      0.99        46\n",
      "           5       0.92      0.96      0.94        47\n",
      "           6       0.97      0.97      0.97        35\n",
      "           7       1.00      0.97      0.99        34\n",
      "           8       0.97      0.97      0.97        30\n",
      "           9       0.97      0.95      0.96        40\n",
      "\n",
      "    accuracy                           0.97       360\n",
      "   macro avg       0.98      0.98      0.98       360\n",
      "weighted avg       0.98      0.97      0.98       360\n",
      "\n"
     ]
    }
   ],
   "source": [
    "from sklearn.datasets import load_digits\n",
    "from sklearn.model_selection import train_test_split\n",
    "from sklearn.linear_model import LogisticRegression\n",
    "from sklearn.metrics import accuracy_score, classification_report\n",
    "\n",
    "def multi_class_mnist_classification():\n",
    "    digits = load_digits()\n",
    "    X, y = digits.data, digits.target\n",
    "\n",
    "    X_train, X_test, y_train, y_test = train_test_split(X, y, test_size=0.2, random_state=42)\n",
    "\n",
    "    model = LogisticRegression(max_iter=10000)\n",
    "    try:\n",
    "        model.fit(X_train, y_train)\n",
    "    except Exception as e:\n",
    "        print(\"Model training failed:\", e)\n",
    "        return\n",
    "\n",
    "    y_pred = model.predict(X_test)\n",
    "    print(\"Multi-Class Classification - MNIST\")\n",
    "    print(\"Accuracy:\", accuracy_score(y_test, y_pred))\n",
    "    print(classification_report(y_test, y_pred))\n",
    "\n",
    "multi_class_mnist_classification()\n"
   ]
  },
  {
   "cell_type": "markdown",
   "metadata": {},
   "source": [
    "Task 3:<br>\n",
    "Multi-Class Classification: Classify a flower species based on petal and sepal measurements.<br>\n",
    "Use the Iris dataset.<br>\n",
    "Task: Use features to classify into three species: Setosa, Versicolor, or Virginica.\n"
   ]
  },
  {
   "cell_type": "code",
   "execution_count": 3,
   "metadata": {},
   "outputs": [
    {
     "name": "stdout",
     "output_type": "stream",
     "text": [
      "Multi-Class Classification - Iris\n",
      "Accuracy: 1.0\n",
      "              precision    recall  f1-score   support\n",
      "\n",
      "           0       1.00      1.00      1.00        10\n",
      "           1       1.00      1.00      1.00         9\n",
      "           2       1.00      1.00      1.00        11\n",
      "\n",
      "    accuracy                           1.00        30\n",
      "   macro avg       1.00      1.00      1.00        30\n",
      "weighted avg       1.00      1.00      1.00        30\n",
      "\n"
     ]
    }
   ],
   "source": [
    "from sklearn.datasets import load_iris\n",
    "from sklearn.model_selection import train_test_split\n",
    "from sklearn.linear_model import LogisticRegression\n",
    "from sklearn.metrics import accuracy_score, classification_report\n",
    "\n",
    "def multi_class_iris_classification():\n",
    "    iris = load_iris()\n",
    "    X, y = iris.data, iris.target\n",
    "\n",
    "    X_train, X_test, y_train, y_test = train_test_split(X, y, test_size=0.2, random_state=42)\n",
    "\n",
    "    model = LogisticRegression(max_iter=1000)\n",
    "    try:\n",
    "        model.fit(X_train, y_train)\n",
    "    except Exception as e:\n",
    "        print(\"Model training failed:\", e)\n",
    "        return\n",
    "\n",
    "    y_pred = model.predict(X_test)\n",
    "    print(\"Multi-Class Classification - Iris\")\n",
    "    print(\"Accuracy:\", accuracy_score(y_test, y_pred))\n",
    "    print(classification_report(y_test, y_pred))\n",
    "\n",
    "multi_class_iris_classification()\n"
   ]
  }
 ],
 "metadata": {
  "kernelspec": {
   "display_name": "Python 3",
   "language": "python",
   "name": "python3"
  },
  "language_info": {
   "codemirror_mode": {
    "name": "ipython",
    "version": 3
   },
   "file_extension": ".py",
   "mimetype": "text/x-python",
   "name": "python",
   "nbconvert_exporter": "python",
   "pygments_lexer": "ipython3",
   "version": "3.10.12"
  }
 },
 "nbformat": 4,
 "nbformat_minor": 2
}
