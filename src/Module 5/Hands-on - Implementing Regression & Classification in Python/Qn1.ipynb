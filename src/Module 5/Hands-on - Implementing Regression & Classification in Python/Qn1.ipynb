{
 "cells": [
  {
   "cell_type": "markdown",
   "metadata": {},
   "source": [
    "Title: Train a Linear Regression Model"
   ]
  },
  {
   "cell_type": "markdown",
   "metadata": {},
   "source": [
    "Task 1: Predicting House Prices<br>\n",
    "Dataset: Use a dataset that contains various features of houses such as square footage, number of bedrooms, and age of the house."
   ]
  },
  {
   "cell_type": "code",
   "execution_count": 1,
   "metadata": {},
   "outputs": [
    {
     "name": "stderr",
     "output_type": "stream",
     "text": [
      "INFO:root:House Prices - MSE: 4444866754.53\n"
     ]
    },
    {
     "name": "stdout",
     "output_type": "stream",
     "text": [
      "House Price Predictions: [241533.44262295 258253.68852459]\n"
     ]
    },
    {
     "data": {
      "text/plain": [
       "4444866754.531712"
      ]
     },
     "execution_count": 1,
     "metadata": {},
     "output_type": "execute_result"
    }
   ],
   "source": [
    "import pandas as pd\n",
    "import numpy as np\n",
    "from sklearn.linear_model import LinearRegression\n",
    "from sklearn.model_selection import train_test_split\n",
    "from sklearn.preprocessing import StandardScaler\n",
    "from sklearn.metrics import mean_squared_error\n",
    "import logging\n",
    "\n",
    "logging.basicConfig(level=logging.INFO)\n",
    "logger = logging.getLogger()\n",
    "\n",
    "def load_house_data():\n",
    "    data = {\n",
    "        'Square_Feet': [1400, 1600, 1700, 1875, 1100, 1550, 2350, 2450, 1425, 1700],\n",
    "        'Bedrooms': [3, 3, 3, 3, 2, 3, 4, 4, 3, 3],\n",
    "        'Age': [10, 15, 20, 5, 30, 5, 15, 10, 20, 25],\n",
    "        'Price': [245000, 312000, 279000, 308000, 199000, 219000, 405000, 324000, 319000, 255000]\n",
    "    }\n",
    "    df = pd.DataFrame(data)\n",
    "    if df.empty or df.isnull().values.any():\n",
    "        raise ValueError(\"DataFrame is empty or contains null values\")\n",
    "    return df\n",
    "\n",
    "def train_house_model(df):\n",
    "    X = df[['Square_Feet', 'Bedrooms', 'Age']]\n",
    "    y = df['Price']\n",
    "\n",
    "    X_train, X_test, y_train, y_test = train_test_split(X, y, test_size=0.2, random_state=42)\n",
    "\n",
    "    scaler = StandardScaler()\n",
    "    X_train_scaled = scaler.fit_transform(X_train)\n",
    "    X_test_scaled = scaler.transform(X_test)\n",
    "\n",
    "    model = LinearRegression()\n",
    "    model.fit(X_train_scaled, y_train)\n",
    "    y_pred = model.predict(X_test_scaled)\n",
    "\n",
    "    mse = mean_squared_error(y_test, y_pred)\n",
    "    logger.info(f\"House Prices - MSE: {mse:.2f}\")\n",
    "    print(f\"House Price Predictions: {y_pred}\")\n",
    "    return mse\n",
    "\n",
    "df_house = load_house_data()\n",
    "train_house_model(df_house)\n"
   ]
  },
  {
   "cell_type": "markdown",
   "metadata": {},
   "source": [
    "Task 2: Predicting Car Mileage (MPG)<br>\n",
    "Dataset: Use a dataset where features include horsepower, weight, and model year of cars."
   ]
  },
  {
   "cell_type": "code",
   "execution_count": 2,
   "metadata": {},
   "outputs": [
    {
     "name": "stderr",
     "output_type": "stream",
     "text": [
      "INFO:root:MPG - MSE: 1.23\n"
     ]
    },
    {
     "name": "stdout",
     "output_type": "stream",
     "text": [
      "MPG Predictions: [24.50719727 19.57555922]\n"
     ]
    },
    {
     "data": {
      "text/plain": [
       "1.2258967852685116"
      ]
     },
     "execution_count": 2,
     "metadata": {},
     "output_type": "execute_result"
    }
   ],
   "source": [
    "def load_car_data():\n",
    "    data = {\n",
    "        'Horsepower': [130, 165, 150, 140, 120, 130, 160, 170, 150, 130],\n",
    "        'Weight': [3500, 3000, 3200, 2800, 3000, 3500, 3400, 3700, 3200, 2800],\n",
    "        'Model_Year': [1980, 1985, 1990, 1995, 2000, 2005, 2010, 2015, 2020, 2025],\n",
    "        'MPG': [22, 20, 18, 22, 24, 25, 27, 26, 23, 21]\n",
    "    }\n",
    "    df = pd.DataFrame(data)\n",
    "    if df.empty or df.isnull().values.any():\n",
    "        raise ValueError(\"DataFrame is empty or contains null values\")\n",
    "    return df\n",
    "\n",
    "def train_mpg_model(df):\n",
    "    X = df[['Horsepower', 'Weight', 'Model_Year']]\n",
    "    y = df['MPG']\n",
    "\n",
    "    X_train, X_test, y_train, y_test = train_test_split(X, y, test_size=0.2, random_state=42)\n",
    "\n",
    "    scaler = StandardScaler()\n",
    "    X_train_scaled = scaler.fit_transform(X_train)\n",
    "    X_test_scaled = scaler.transform(X_test)\n",
    "\n",
    "    model = LinearRegression()\n",
    "    model.fit(X_train_scaled, y_train)\n",
    "    y_pred = model.predict(X_test_scaled)\n",
    "\n",
    "    mse = mean_squared_error(y_test, y_pred)\n",
    "    logger.info(f\"MPG - MSE: {mse:.2f}\")\n",
    "    print(f\"MPG Predictions: {y_pred}\")\n",
    "    return mse\n",
    "\n",
    "df_car = load_car_data()\n",
    "train_mpg_model(df_car)\n"
   ]
  },
  {
   "cell_type": "markdown",
   "metadata": {},
   "source": [
    "Task 3: Predicting Student's Scores'\n",
    "Dataset: Use a dataset that contains study hours and corresponding student test scores."
   ]
  },
  {
   "cell_type": "code",
   "execution_count": 3,
   "metadata": {},
   "outputs": [
    {
     "name": "stderr",
     "output_type": "stream",
     "text": [
      "INFO:root:Student Scores - MSE: 9.13\n"
     ]
    },
    {
     "name": "stdout",
     "output_type": "stream",
     "text": [
      "Test Score Predictions: [101.63793103  53.36206897]\n"
     ]
    },
    {
     "data": {
      "text/plain": [
       "9.131093935790723"
      ]
     },
     "execution_count": 3,
     "metadata": {},
     "output_type": "execute_result"
    }
   ],
   "source": [
    "def load_student_data():\n",
    "    data = {\n",
    "        'Study_Hours': [1, 2, 3, 4, 5, 6, 7, 8, 9, 10],\n",
    "        'Test_Score': [35, 50, 65, 70, 80, 85, 90, 95, 99, 100]\n",
    "    }\n",
    "    df = pd.DataFrame(data)\n",
    "    if df.empty or df.isnull().values.any():\n",
    "        raise ValueError(\"DataFrame is empty or contains null values\")\n",
    "    return df\n",
    "\n",
    "def train_student_model(df):\n",
    "    X = df[['Study_Hours']]\n",
    "    y = df['Test_Score']\n",
    "\n",
    "    X_train, X_test, y_train, y_test = train_test_split(X, y, test_size=0.2, random_state=42)\n",
    "\n",
    "    scaler = StandardScaler()\n",
    "    X_train_scaled = scaler.fit_transform(X_train)\n",
    "    X_test_scaled = scaler.transform(X_test)\n",
    "\n",
    "    model = LinearRegression()\n",
    "    model.fit(X_train_scaled, y_train)\n",
    "    y_pred = model.predict(X_test_scaled)\n",
    "\n",
    "    mse = mean_squared_error(y_test, y_pred)\n",
    "    logger.info(f\"Student Scores - MSE: {mse:.2f}\")\n",
    "    print(f\"Test Score Predictions: {y_pred}\")\n",
    "    return mse\n",
    "\n",
    "df_student = load_student_data()\n",
    "train_student_model(df_student)\n"
   ]
  }
 ],
 "metadata": {
  "kernelspec": {
   "display_name": "Python 3",
   "language": "python",
   "name": "python3"
  },
  "language_info": {
   "codemirror_mode": {
    "name": "ipython",
    "version": 3
   },
   "file_extension": ".py",
   "mimetype": "text/x-python",
   "name": "python",
   "nbconvert_exporter": "python",
   "pygments_lexer": "ipython3",
   "version": "3.10.12"
  }
 },
 "nbformat": 4,
 "nbformat_minor": 2
}
