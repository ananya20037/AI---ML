{
 "cells": [
  {
   "cell_type": "code",
   "execution_count": 1,
   "metadata": {},
   "outputs": [
    {
     "name": "stdout",
     "output_type": "stream",
     "text": [
      "Gradient of Loss with respect to θ: -0.8\n",
      "Mean Squared Error (MSE): 0.16000000000000003\n",
      "Updated θ after one SGD step: 0.532\n"
     ]
    }
   ],
   "source": [
    "# Title: Backpropagation\n",
    "\n",
    "# Task 1: Gradient Descent Calculation\n",
    "# Given a loss function ( L = (y - \\hat{y})^2 ), find the gradient with respect to a single parameter ( \\theta ).\n",
    "\n",
    "# Task 2: Loss Function\n",
    "# Assume true label ( y = 1 ) and prediction ( \\hat{y} = 0.6 ). Calculate the mean squared error (MSE).\n",
    "\n",
    "# Task 3: Optimization with Stochastic Gradient Descent (SGD)\n",
    "# Perform one step of SGD update for parameter ( \\theta = 0.5 ) with a learning rate of 0.1 and gradient from Example 1, where (\\frac{\\partial L}{\\partial \\theta} = -0.32).\n",
    "                                                   \n",
    "import numpy as np\n",
    "\n",
    "# Title: Backpropagation\n",
    "\n",
    "# Task 1: Gradient Descent Calculation\n",
    "# Given a loss function L = (y - y_hat)^2, find the gradient with respect to parameter θ.\n",
    "# L = (y - y_hat)^2\n",
    "# ∂L/∂θ = -2 * (y - y_hat) * ∂y_hat/∂θ\n",
    "\n",
    "# Assume y_hat = θ (the prediction is θ)\n",
    "def gradient_descent_loss(y, y_hat, theta):\n",
    "    # Gradient of loss with respect to θ (dL/dθ)\n",
    "    grad = -2 * (y - y_hat) * (1)  # ∂y_hat/∂θ = 1 (since y_hat = θ)\n",
    "    return grad\n",
    "\n",
    "# Example values\n",
    "y = 1  # True label\n",
    "theta = 0.6  # Prediction (y_hat)\n",
    "gradient = gradient_descent_loss(y, theta, theta)\n",
    "print(\"Gradient of Loss with respect to θ:\", gradient)\n",
    "\n",
    "# Task 2: Loss Function\n",
    "# Calculate Mean Squared Error (MSE) for y = 1 and y_hat = 0.6\n",
    "def mean_squared_error(y, y_hat):\n",
    "    return (y - y_hat) ** 2\n",
    "\n",
    "y_true = 1\n",
    "y_pred = 0.6\n",
    "mse = mean_squared_error(y_true, y_pred)\n",
    "print(\"Mean Squared Error (MSE):\", mse)\n",
    "\n",
    "# Task 3: Optimization with Stochastic Gradient Descent (SGD)\n",
    "# Perform one step of SGD update for parameter θ = 0.5 with learning rate = 0.1\n",
    "# and gradient from Example 1, where ∂L/∂θ = -0.32\n",
    "def sgd_update(theta, gradient, learning_rate):\n",
    "    # Update θ using SGD: θ = θ - learning_rate * gradient\n",
    "    return theta - learning_rate * gradient\n",
    "\n",
    "# Given values\n",
    "theta_sgd = 0.5  # Initial parameter\n",
    "learning_rate = 0.1  # Learning rate\n",
    "gradient_sgd = -0.32  # Gradient from Example 1\n",
    "\n",
    "# Perform SGD update\n",
    "theta_updated = sgd_update(theta_sgd, gradient_sgd, learning_rate)\n",
    "print(\"Updated θ after one SGD step:\", theta_updated)\n"
   ]
  }
 ],
 "metadata": {
  "kernelspec": {
   "display_name": "Python 3",
   "language": "python",
   "name": "python3"
  },
  "language_info": {
   "codemirror_mode": {
    "name": "ipython",
    "version": 3
   },
   "file_extension": ".py",
   "mimetype": "text/x-python",
   "name": "python",
   "nbconvert_exporter": "python",
   "pygments_lexer": "ipython3",
   "version": "3.10.12"
  }
 },
 "nbformat": 4,
 "nbformat_minor": 2
}
