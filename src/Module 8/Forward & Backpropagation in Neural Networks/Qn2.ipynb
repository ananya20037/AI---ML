{
 "cells": [
  {
   "cell_type": "code",
   "execution_count": 1,
   "metadata": {},
   "outputs": [
    {
     "name": "stdout",
     "output_type": "stream",
     "text": [
      "Weighted Sum (X * W): 1.02\n",
      "Tanh Activation for Weighted Sum: 0.7698665359089003\n",
      "Softmax Output for Z = [2.0, 1.0]: [0.73105858 0.26894142]\n"
     ]
    }
   ],
   "source": [
    "# Title: Forward Propagation\n",
    "\n",
    "# Example 1: Weighted Sum Calculation\n",
    "# Using inputs ( X = \\begin{bmatrix} 0.5 & 0.9 \\end{bmatrix} ) and weights ( W =\n",
    "# \\begin{bmatrix} 0.6 & 0.8 \\end{bmatrix} ), calculate the weighted sum.\n",
    "\n",
    "# Example 2: Activation Calculation (with Tanh)\n",
    "# Calculate the tanh activation for the weighted sum from Example 1.\n",
    "    \n",
    "# Example 3: Output Calculation (with Softmax)\n",
    "# For outputs ( Z = \\begin{bmatrix} 2.0 & 1.0 \\end{bmatrix} ), calculate the softmax.\n",
    "\n",
    "import numpy as np\n",
    "\n",
    "# Title: Forward Propagation\n",
    "\n",
    "# Example 1: Weighted Sum Calculation\n",
    "X = np.array([0.5, 0.9])  # Input vector\n",
    "W = np.array([0.6, 0.8])  # Weight vector\n",
    "\n",
    "# Calculate the weighted sum (X * W)\n",
    "weighted_sum = np.dot(X, W)\n",
    "print(\"Weighted Sum (X * W):\", weighted_sum)\n",
    "\n",
    "# Example 2: Activation Calculation (with Tanh)\n",
    "def tanh(z):\n",
    "    return np.tanh(z)\n",
    "\n",
    "# Apply Tanh activation to the weighted sum\n",
    "tanh_output = tanh(weighted_sum)\n",
    "print(\"Tanh Activation for Weighted Sum:\", tanh_output)\n",
    "\n",
    "# Example 3: Output Calculation (with Softmax)\n",
    "def softmax(z):\n",
    "    e_z = np.exp(z - np.max(z))  # Subtracting max(z) for numerical stability\n",
    "    return e_z / e_z.sum()\n",
    "\n",
    "Z = np.array([2.0, 1.0])  # Output vector\n",
    "softmax_output = softmax(Z)\n",
    "print(\"Softmax Output for Z = [2.0, 1.0]:\", softmax_output)\n"
   ]
  }
 ],
 "metadata": {
  "kernelspec": {
   "display_name": "Python 3",
   "language": "python",
   "name": "python3"
  },
  "language_info": {
   "codemirror_mode": {
    "name": "ipython",
    "version": 3
   },
   "file_extension": ".py",
   "mimetype": "text/x-python",
   "name": "python",
   "nbconvert_exporter": "python",
   "pygments_lexer": "ipython3",
   "version": "3.10.12"
  }
 },
 "nbformat": 4,
 "nbformat_minor": 2
}
