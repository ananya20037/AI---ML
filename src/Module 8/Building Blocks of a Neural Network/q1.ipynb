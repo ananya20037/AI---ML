{
 "cells": [
  {
   "cell_type": "code",
   "execution_count": 6,
   "metadata": {},
   "outputs": [
    {
     "name": "stdout",
     "output_type": "stream",
     "text": [
      "Number of layers: 2\n",
      "Input layer size: 4\n",
      "Hidden layer size: 8\n",
      "Output layer size: 1\n"
     ]
    }
   ],
   "source": [
    "# Question 1: Understanding the Structure of a Neural Network\n",
    "# Description: Create a simple neural network with one input layer, one hidden layer, and one output layer using the Keras Sequential API, and print the model summary.\n",
    "from sklearn.neural_network import MLPClassifier\n",
    "import numpy as np\n",
    "\n",
    "# Example dataset with 4 features (X) and binary labels (y)\n",
    "X = np.random.rand(100, 4)  # 100 samples, 4 features\n",
    "y = np.random.randint(2, size=100)  # 100 binary labels\n",
    "\n",
    "# Create a simple neural network with one hidden layer\n",
    "model = MLPClassifier(hidden_layer_sizes=(8,), max_iter=1000, activation='relu')\n",
    "\n",
    "# Train the model\n",
    "model.fit(X, y)\n",
    "\n",
    "# Print the model summary (architecture)\n",
    "print(f\"Number of layers: {len(model.coefs_)}\")\n",
    "print(f\"Input layer size: {model.coefs_[0].shape[0]}\")\n",
    "print(f\"Hidden layer size: {model.coefs_[0].shape[1]}\")\n",
    "print(f\"Output layer size: {model.coefs_[-1].shape[1]}\")\n",
    "\n"
   ]
  }
 ],
 "metadata": {
  "kernelspec": {
   "display_name": "Python 3",
   "language": "python",
   "name": "python3"
  },
  "language_info": {
   "codemirror_mode": {
    "name": "ipython",
    "version": 3
   },
   "file_extension": ".py",
   "mimetype": "text/x-python",
   "name": "python",
   "nbconvert_exporter": "python",
   "pygments_lexer": "ipython3",
   "version": "3.10.12"
  }
 },
 "nbformat": 4,
 "nbformat_minor": 2
}
