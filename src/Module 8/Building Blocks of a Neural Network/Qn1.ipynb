{
 "cells": [
  {
   "cell_type": "code",
   "execution_count": null,
   "metadata": {},
   "outputs": [
    {
     "name": "stdout",
     "output_type": "stream",
     "text": [
      "Classification Report:\n",
      "               precision    recall  f1-score   support\n",
      "\n",
      "           0       0.99      0.98      0.99      1343\n",
      "           1       0.99      0.99      0.99      1600\n",
      "           2       0.97      0.97      0.97      1380\n",
      "           3       0.97      0.97      0.97      1433\n",
      "           4       0.98      0.97      0.97      1295\n",
      "           5       0.97      0.97      0.97      1273\n",
      "           6       0.98      0.99      0.98      1396\n",
      "           7       0.97      0.98      0.98      1503\n",
      "           8       0.97      0.96      0.96      1357\n",
      "           9       0.96      0.96      0.96      1420\n",
      "\n",
      "    accuracy                           0.97     14000\n",
      "   macro avg       0.97      0.97      0.97     14000\n",
      "weighted avg       0.97      0.97      0.97     14000\n",
      "\n"
     ]
    },
    {
     "name": "stderr",
     "output_type": "stream",
     "text": [
      "/home/vscode/.local/lib/python3.10/site-packages/sklearn/neural_network/_multilayer_perceptron.py:691: ConvergenceWarning: Stochastic Optimizer: Maximum iterations (20) reached and the optimization hasn't converged yet.\n",
      "  warnings.warn(\n"
     ]
    },
    {
     "ename": "",
     "evalue": "",
     "output_type": "error",
     "traceback": [
      "\u001b[1;31mThe Kernel crashed while executing code in the current cell or a previous cell. \n",
      "\u001b[1;31mPlease review the code in the cell(s) to identify a possible cause of the failure. \n",
      "\u001b[1;31mClick <a href='https://aka.ms/vscodeJupyterKernelCrash'>here</a> for more info. \n",
      "\u001b[1;31mView Jupyter <a href='command:jupyter.viewOutput'>log</a> for further details."
     ]
    }
   ],
   "source": [
    "# Types of Layers in Neural Networks\n",
    "\n",
    "# Task 1: Learning Rate\n",
    "\n",
    "# 1. Input Layer:\n",
    "# Use a dataset of handwritten digits (like MNIST).\n",
    "# Define an input layer that matches the size of the image (28x28 pixels).\n",
    "# Observe how the input layer takes in raw pixel values.\n",
    "\n",
    "# 2. Hidden Layers:\n",
    "# Add a hidden layer with 128 neurons.\n",
    "# Implement an activation function such as ReLU.\n",
    "# Adjust the number of neurons and observe how this affects the model's ability to learn from features.\n",
    "\n",
    "# 3. Output Layer:\n",
    "# Use a Softmax output layer with 10 neurons (one for each digit).\n",
    "# Train the model and observe how the output layer provides the probability distribution over the class labels.\n",
    "from sklearn.neural_network import MLPClassifier\n",
    "from sklearn.datasets import fetch_openml\n",
    "from sklearn.model_selection import train_test_split\n",
    "from sklearn.metrics import classification_report\n",
    "from sklearn.preprocessing import StandardScaler\n",
    "\n",
    "# Load MNIST dataset from OpenML\n",
    "mnist = fetch_openml('mnist_784', version=1)\n",
    "\n",
    "# Get the data and target\n",
    "X, y = mnist[\"data\"], mnist[\"target\"].astype(int)\n",
    "\n",
    "# Preprocess the data: Standardize the pixel values\n",
    "scaler = StandardScaler()\n",
    "X_scaled = scaler.fit_transform(X)\n",
    "\n",
    "# Split the dataset into training and testing\n",
    "X_train, X_test, y_train, y_test = train_test_split(X_scaled, y, test_size=0.2, random_state=42)\n",
    "\n",
    "# Define and train the MLP model\n",
    "mlp = MLPClassifier(hidden_layer_sizes=(128,), max_iter=20, activation='relu', solver='adam', random_state=42)\n",
    "mlp.fit(X_train, y_train)\n",
    "\n",
    "# Predictions\n",
    "predictions = mlp.predict(X_test)\n",
    "\n",
    "# Evaluate the model\n",
    "print(\"Classification Report:\\n\", classification_report(y_test, predictions))\n",
    "\n"
   ]
  }
 ],
 "metadata": {
  "kernelspec": {
   "display_name": "Python 3",
   "language": "python",
   "name": "python3"
  },
  "language_info": {
   "codemirror_mode": {
    "name": "ipython",
    "version": 3
   },
   "file_extension": ".py",
   "mimetype": "text/x-python",
   "name": "python",
   "nbconvert_exporter": "python",
   "pygments_lexer": "ipython3",
   "version": "3.10.12"
  }
 },
 "nbformat": 4,
 "nbformat_minor": 2
}
